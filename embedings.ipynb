{
  "cells": [
    {
      "cell_type": "markdown",
      "metadata": {
        "id": "8Tyr-_EEmK6s"
      },
      "source": [
        "#TEXT MINING\n",
        "\n",
        "UNRN\n",
        "\n",
        "Especialización en ciencias de datos aplicada\n",
        "\n",
        "Natalia Debandi\n",
        "\n",
        "ndebandi@unrn.edu.ar\n",
        "\n",
        "**CLASE 2**\n",
        "\n",
        "EMBEDINGS\n",
        "\n"
      ]
    },
    {
      "cell_type": "code",
      "source": [
        "!pip install gensim numpy matplotlib sklearn"
      ],
      "metadata": {
        "id": "ZYjmT9G6Eu7Y"
      },
      "execution_count": null,
      "outputs": []
    }
  ],
  "metadata": {
    "colab": {
      "provenance": []
    },
    "interpreter": {
      "hash": "3386c84ec0532bab34ae70cc8f30d327d47697366efd1f0b040a1804279813d8"
    },
    "kernelspec": {
      "display_name": "Python 3.8.12 ('venv': venv)",
      "language": "python",
      "name": "python3"
    },
    "language_info": {
      "codemirror_mode": {
        "name": "ipython",
        "version": 3
      },
      "file_extension": ".py",
      "mimetype": "text/x-python",
      "name": "python",
      "nbconvert_exporter": "python",
      "pygments_lexer": "ipython3",
      "version": "3.8.12"
    }
  },
  "nbformat": 4,
  "nbformat_minor": 0
}