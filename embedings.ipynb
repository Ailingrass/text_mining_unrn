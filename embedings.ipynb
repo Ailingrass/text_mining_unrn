{
 "cells": [
  {
   "cell_type": "markdown",
   "metadata": {
    "id": "8Tyr-_EEmK6s"
   },
   "source": [
    "# Embeddings y similaridad"
   ]
  },
  {
   "cell_type": "markdown",
   "metadata": {
    "id": "Oc_m-X8LmK6v"
   },
   "source": [
    "Vamos a usar GenSim, una librería para topic modelling pero que la utilizaremos más que nada para acceder a los vectores"
   ]
  },
  {
   "cell_type": "code",
   "execution_count": 1,
   "metadata": {
    "colab": {
     "base_uri": "https://localhost:8080/"
    },
    "executionInfo": {
     "elapsed": 10885,
     "status": "ok",
     "timestamp": 1684193885596,
     "user": {
      "displayName": "Juan Manuel Pérez",
      "userId": "15517185988154421703"
     },
     "user_tz": 180
    },
    "id": "LIEMGHtLnJL4",
    "outputId": "411a71a4-ec95-41e5-cd87-bdd39b035d21"
   },
   "outputs": [
    {
     "name": "stdout",
     "output_type": "stream",
     "text": [
      "Looking in indexes: https://pypi.org/simple, https://us-python.pkg.dev/colab-wheels/public/simple/\n",
      "Requirement already satisfied: gensim in /usr/local/lib/python3.10/dist-packages (4.3.1)\n",
      "Requirement already satisfied: numpy>=1.18.5 in /usr/local/lib/python3.10/dist-packages (from gensim) (1.22.4)\n",
      "Requirement already satisfied: scipy>=1.7.0 in /usr/local/lib/python3.10/dist-packages (from gensim) (1.10.1)\n",
      "Requirement already satisfied: smart-open>=1.8.1 in /usr/local/lib/python3.10/dist-packages (from gensim) (6.3.0)\n"
     ]
    }
   ],
   "source": [
    "!pip install gensim "
   ]
  },
  {
   "cell_type": "code",
   "execution_count": 2,
   "metadata": {
    "colab": {
     "base_uri": "https://localhost:8080/"
    },
    "executionInfo": {
     "elapsed": 2105,
     "status": "ok",
     "timestamp": 1684193887683,
     "user": {
      "displayName": "Juan Manuel Pérez",
      "userId": "15517185988154421703"
     },
     "user_tz": 180
    },
    "id": "oNC4kDNamK6x",
    "outputId": "8c0d5f8e-8124-4fe6-de94-69453b7836cb"
   },
   "outputs": [
    {
     "data": {
      "text/plain": [
       "dict_keys(['corpora', 'models'])"
      ]
     },
     "execution_count": 2,
     "metadata": {},
     "output_type": "execute_result"
    }
   ],
   "source": [
    "import gensim.downloader as api\n",
    "\n",
    "api.info().keys()"
   ]
  },
  {
   "cell_type": "code",
   "execution_count": 3,
   "metadata": {
    "colab": {
     "base_uri": "https://localhost:8080/"
    },
    "executionInfo": {
     "elapsed": 39,
     "status": "ok",
     "timestamp": 1684193887686,
     "user": {
      "displayName": "Juan Manuel Pérez",
      "userId": "15517185988154421703"
     },
     "user_tz": 180
    },
    "id": "9MD_AKdAmK61",
    "outputId": "7d2fc191-1f85-47c2-9953-a3317a834fec"
   },
   "outputs": [
    {
     "data": {
      "text/plain": [
       "dict_keys(['fasttext-wiki-news-subwords-300', 'conceptnet-numberbatch-17-06-300', 'word2vec-ruscorpora-300', 'word2vec-google-news-300', 'glove-wiki-gigaword-50', 'glove-wiki-gigaword-100', 'glove-wiki-gigaword-200', 'glove-wiki-gigaword-300', 'glove-twitter-25', 'glove-twitter-50', 'glove-twitter-100', 'glove-twitter-200', '__testing_word2vec-matrix-synopsis'])"
      ]
     },
     "execution_count": 3,
     "metadata": {},
     "output_type": "execute_result"
    }
   ],
   "source": [
    "api.info()[\"models\"].keys()"
   ]
  },
  {
   "cell_type": "markdown",
   "metadata": {
    "id": "V2c0UcZSmK61"
   },
   "source": [
    "Ninguno en español :-(\n",
    "\n",
    "Empecemos con GloVe"
   ]
  },
  {
   "cell_type": "code",
   "execution_count": 4,
   "metadata": {
    "colab": {
     "base_uri": "https://localhost:8080/"
    },
    "executionInfo": {
     "elapsed": 207942,
     "status": "ok",
     "timestamp": 1684194095600,
     "user": {
      "displayName": "Juan Manuel Pérez",
      "userId": "15517185988154421703"
     },
     "user_tz": 180
    },
    "id": "C-yxRKwtmK62",
    "outputId": "bd3434c9-ab8d-40fc-8c6c-ecefe441bdc2"
   },
   "outputs": [
    {
     "name": "stdout",
     "output_type": "stream",
     "text": [
      "[==================================================] 100.0% 376.1/376.1MB downloaded\n"
     ]
    }
   ],
   "source": [
    "model = api.load(\"glove-wiki-gigaword-300\")  # load glove vectors"
   ]
  },
  {
   "cell_type": "markdown",
   "metadata": {
    "id": "bpLeGK15mK62"
   },
   "source": [
    "Veamos el vocabulario que tiene"
   ]
  },
  {
   "cell_type": "code",
   "execution_count": 6,
   "metadata": {
    "colab": {
     "base_uri": "https://localhost:8080/"
    },
    "executionInfo": {
     "elapsed": 7,
     "status": "ok",
     "timestamp": 1684194118370,
     "user": {
      "displayName": "Juan Manuel Pérez",
      "userId": "15517185988154421703"
     },
     "user_tz": 180
    },
    "id": "ZufdVq2SmK63",
    "outputId": "76a6b42e-ca36-4bfd-8604-9713c34970b9"
   },
   "outputs": [
    {
     "data": {
      "text/plain": [
       "400000"
      ]
     },
     "execution_count": 6,
     "metadata": {},
     "output_type": "execute_result"
    }
   ],
   "source": [
    "len(model.index_to_key)"
   ]
  },
  {
   "cell_type": "markdown",
   "metadata": {
    "id": "XyWwj87PmK63"
   },
   "source": [
    "Tiene 400k palabras\n",
    "\n",
    "Para obtener el vector de una palabra, tenemos que hacer lo siguiente"
   ]
  },
  {
   "cell_type": "code",
   "execution_count": 9,
   "metadata": {
    "colab": {
     "base_uri": "https://localhost:8080/"
    },
    "executionInfo": {
     "elapsed": 10,
     "status": "ok",
     "timestamp": 1684194169543,
     "user": {
      "displayName": "Juan Manuel Pérez",
      "userId": "15517185988154421703"
     },
     "user_tz": 180
    },
    "id": "tVOVwiNJIMN9",
    "outputId": "880269f4-64ab-4b53-a32e-05b4c8e2a0a0"
   },
   "outputs": [
    {
     "data": {
      "text/plain": [
       "(400000, 300)"
      ]
     },
     "execution_count": 9,
     "metadata": {},
     "output_type": "execute_result"
    }
   ],
   "source": [
    "idx = model.key_to_index[\"banana\"]\n",
    "vec = model.vectors[idx]\n",
    "\n",
    "model.vectors.shape"
   ]
  },
  {
   "cell_type": "markdown",
   "metadata": {
    "id": "EJFlqnHZ5Ev8"
   },
   "source": [
    "O más fácil, usar `model.get_vector`"
   ]
  },
  {
   "cell_type": "code",
   "execution_count": 10,
   "metadata": {
    "colab": {
     "base_uri": "https://localhost:8080/"
    },
    "executionInfo": {
     "elapsed": 404,
     "status": "ok",
     "timestamp": 1684194193534,
     "user": {
      "displayName": "Juan Manuel Pérez",
      "userId": "15517185988154421703"
     },
     "user_tz": 180
    },
    "id": "Skq1mDL3y90-",
    "outputId": "91cff8c0-8b23-41c2-ceaa-9782f808ccf4"
   },
   "outputs": [
    {
     "data": {
      "text/plain": [
       "array([ 4.2141e-01,  2.0467e-02,  1.2666e-01,  3.9762e-01, -1.1016e-01,\n",
       "       -3.5956e-02, -4.7214e-01, -1.3916e-01,  5.6812e-01, -3.4969e-01,\n",
       "       -9.3232e-02, -1.7035e-01, -3.8677e-01, -1.6811e-01, -1.0157e-01,\n",
       "       -2.6612e-01,  4.8094e-02, -4.6771e-01, -6.0725e-01,  4.0952e-01,\n",
       "        3.1771e-01,  5.0098e-01,  6.6368e-01, -1.1827e-01, -7.4267e-01,\n",
       "       -1.0472e-01, -6.4353e-01, -4.4023e-01, -3.9101e-01,  3.5694e-01,\n",
       "       -9.3489e-01,  4.8317e-01,  1.5223e-01,  7.9339e-02, -2.5111e-01,\n",
       "        3.9968e-01, -1.7982e-01, -2.8874e-01, -1.0891e-01,  3.8821e-01,\n",
       "       -2.3147e-01, -5.0337e-01, -2.5231e-01, -2.2184e-02, -2.7874e-01,\n",
       "       -2.4193e-01,  5.7466e-02, -5.3955e-01, -3.4875e-02, -4.0482e-01,\n",
       "       -3.8067e-02, -4.2337e-01,  4.2861e-01,  3.5166e-01, -1.8165e-01,\n",
       "       -3.1131e-01, -5.3276e-01, -5.0954e-02,  6.6779e-01, -4.0077e-01,\n",
       "        2.1403e-01, -2.9861e-01, -3.6637e-01,  2.8489e-01, -3.7663e-01,\n",
       "        5.9604e-02, -3.1795e-01,  2.5463e-01, -2.2185e-01,  2.3032e-01,\n",
       "       -1.2302e-01,  2.4175e-01, -1.0706e-01, -8.6599e-02, -3.7363e-02,\n",
       "       -1.0403e-01,  2.4492e-01, -8.4063e-01, -1.5350e-01, -1.9363e-01,\n",
       "       -1.8541e-02,  1.0938e-01, -2.9402e-01, -1.1271e-01, -3.8886e-01,\n",
       "       -4.2836e-01, -4.4860e-01, -2.4651e-01, -9.4971e-02, -6.3275e-01,\n",
       "        2.0591e-01, -7.7712e-01, -2.3888e-01, -7.9994e-01, -3.6994e-01,\n",
       "        3.7863e-01,  2.7856e-01, -1.0061e-01,  6.4728e-02,  9.1214e-02,\n",
       "        2.4322e-01,  3.9319e-01,  2.7138e-01, -6.9390e-01, -3.7603e-01,\n",
       "        1.9322e-01, -2.8888e-01, -1.3833e-02, -2.0092e-01,  2.0651e-01,\n",
       "        1.1443e+00,  2.0413e-01,  7.7503e-02,  3.6868e-01,  2.6764e-01,\n",
       "       -1.9205e-01,  1.2437e-01,  7.2540e-01, -4.0392e-01,  2.0171e-01,\n",
       "        2.7611e-02, -7.0727e-01,  7.3353e-01, -2.8918e-01, -7.6865e-02,\n",
       "        1.6481e-01,  4.7930e-01,  1.0438e+00, -1.2671e-02,  2.1650e-01,\n",
       "       -5.4563e-01,  7.4603e-01,  5.0535e-02,  4.3028e-01,  2.8583e-01,\n",
       "       -2.2623e-01, -1.0048e-01,  2.1873e-02, -1.5193e-02, -3.6967e-01,\n",
       "       -1.2580e-02, -3.3953e-02, -8.7644e-02,  6.7809e-02,  7.5793e-02,\n",
       "        7.7514e-01,  3.6431e-01, -3.1494e-01,  4.4823e-01, -4.9692e-01,\n",
       "       -3.9522e-01,  1.7200e-01,  3.2744e-01,  2.8070e-01, -2.2451e-01,\n",
       "        1.6309e-02, -4.9604e-01, -7.0684e-02,  4.4588e-01,  6.9836e-01,\n",
       "        5.7786e-01, -8.6133e-02,  8.8500e-02, -1.3028e-01, -4.7819e-01,\n",
       "       -5.6810e-01, -3.5058e-01,  4.5372e-01, -7.7019e-02, -3.9147e-01,\n",
       "       -6.2599e-03, -8.8470e-03, -5.5888e-01, -2.7865e-01,  4.5821e-01,\n",
       "        4.0499e-02,  9.6597e-02,  7.9329e-01, -8.1883e-03, -2.2361e-01,\n",
       "        1.3949e-01,  6.3997e-02, -4.8140e-02, -8.9970e-01,  3.2938e-01,\n",
       "       -7.3243e-01,  4.9520e-01,  4.3429e-01,  3.9592e-01, -3.6047e-01,\n",
       "       -4.4325e-01,  1.1874e+00, -1.4529e-01, -2.4614e-01,  1.6348e-01,\n",
       "        2.4299e-01, -8.6866e-02, -3.1420e-01, -1.0316e-01,  4.4774e-01,\n",
       "        1.2476e-01,  2.9402e-01,  5.6585e-02, -8.1334e-03,  4.1448e-01,\n",
       "        7.8065e-02,  4.2369e-01,  5.9514e-01, -1.8196e-01, -1.1808e-01,\n",
       "       -1.6229e-01, -3.7044e-01, -4.5505e-01,  2.3213e-01, -1.8806e-01,\n",
       "       -5.7701e-02,  3.5678e-01, -2.9694e-01,  4.0711e-01,  2.9314e-01,\n",
       "        5.0997e-01, -4.9060e-01, -3.8442e-02,  2.7699e-01, -1.7814e-01,\n",
       "        5.6196e-01, -2.5775e-01,  1.6302e-01, -1.2892e-01,  1.8511e-01,\n",
       "        4.4475e-02, -5.0004e-02,  3.4030e-03,  7.2436e-01,  7.2849e-01,\n",
       "       -5.0832e-02,  6.3507e-01, -5.1974e-01, -1.8575e-02, -4.0821e-02,\n",
       "       -6.5155e-02, -4.7370e-01,  3.1050e-02, -2.9190e-01, -1.0685e+00,\n",
       "        1.9157e-01,  3.5104e-01,  6.5448e-01,  9.4602e-02, -7.4953e-01,\n",
       "        2.7771e-01,  8.5203e-01, -1.3938e-01, -2.6958e-03,  7.5905e-01,\n",
       "        1.5250e-01, -1.8057e-01,  3.5792e-01,  2.2094e-01, -2.6224e-03,\n",
       "        2.4357e-01, -4.4449e-02,  2.4307e-02, -1.8554e-01,  5.4730e-01,\n",
       "        6.7562e-02, -1.7508e-01, -4.9670e-01,  1.9100e-01, -1.2052e-01,\n",
       "        5.6214e-04, -4.2702e-02,  8.3795e-02,  4.1980e-01,  1.4462e-01,\n",
       "        1.4566e-01, -3.3083e-01, -2.5936e-01, -5.8499e-01,  8.2745e-02,\n",
       "       -4.9894e-01, -2.4473e-01, -3.1759e-01, -6.2230e-01, -4.1370e-01,\n",
       "        1.0231e-01,  5.6253e-01, -4.1108e-01,  1.5782e-01,  9.3600e-02,\n",
       "       -6.6787e-02, -6.5050e-01,  4.3919e-01, -7.7270e-02, -1.0359e-01,\n",
       "        2.0172e-01, -6.4019e-01,  9.3869e-02,  2.3952e-01,  3.0140e-01],\n",
       "      dtype=float32)"
      ]
     },
     "execution_count": 10,
     "metadata": {},
     "output_type": "execute_result"
    }
   ],
   "source": [
    "model.get_vector(\"banana\")"
   ]
  },
  {
   "cell_type": "markdown",
   "metadata": {
    "id": "nuq2RMiV0azW"
   },
   "source": [
    "## Ejercicio:\n",
    "\n",
    "Implementar distancia coseno entre dos vectores\n",
    "\n",
    "Recordar que, si tengo $v_1, v_2 \\in \\mathbb{R}^n$, con un ángulo entre ellos $\\alpha \\in [0, 2\\pi)$, tenemos que:\n",
    "\n",
    "$$\n",
    "cos(\\alpha) = \\frac{\\langle v_1, v_2 \\rangle}{\\|v_1\\| \\|v_2\\|}\n",
    "$$\n",
    "\n",
    "Usar `np.dot` y `np.linalg.norm` para calcular esto"
   ]
  },
  {
   "cell_type": "code",
   "execution_count": 11,
   "metadata": {
    "colab": {
     "base_uri": "https://localhost:8080/"
    },
    "executionInfo": {
     "elapsed": 422,
     "status": "ok",
     "timestamp": 1684194587325,
     "user": {
      "displayName": "Juan Manuel Pérez",
      "userId": "15517185988154421703"
     },
     "user_tz": 180
    },
    "id": "-lBWGdxsmK64",
    "outputId": "798e066c-0f02-4a25-b3a5-46f2fb984933"
   },
   "outputs": [
    {
     "name": "stdout",
     "output_type": "stream",
     "text": [
      "Similaridad banana - pineapple: 0.5492\n",
      "Similaridad banana - tree: 0.3496\n",
      "Similaridad banana - star: 0.0333\n"
     ]
    }
   ],
   "source": [
    "import numpy as np\n",
    "\n",
    "def cossim(v1, v2):\n",
    "    \"\"\"\n",
    "    TODO: Completar\n",
    "    \"\"\"\n",
    "    return np.dot(v1, v2) / (np.linalg.norm(v1) * np.linalg.norm(v2))\n",
    "\n",
    "banana = model.get_vector(\"banana\") \n",
    "pineapple = model.get_vector(\"pineapple\")\n",
    "tree = model.get_vector(\"tree\")\n",
    "star = model.get_vector(\"star\")\n",
    "\n",
    "print(f\"Similaridad banana - pineapple: {cossim(banana, pineapple):.4f}\")\n",
    "print(f\"Similaridad banana - tree: {cossim(banana, tree):.4f}\")\n",
    "print(f\"Similaridad banana - star: {cossim(banana, star):.4f}\")"
   ]
  },
  {
   "cell_type": "markdown",
   "metadata": {
    "id": "zywKujg3mK64"
   },
   "source": [
    "Bien, algo hay acá"
   ]
  },
  {
   "cell_type": "code",
   "execution_count": 13,
   "metadata": {
    "executionInfo": {
     "elapsed": 7503,
     "status": "ok",
     "timestamp": 1684194653134,
     "user": {
      "displayName": "Juan Manuel Pérez",
      "userId": "15517185988154421703"
     },
     "user_tz": 180
    },
    "id": "dxJ6jVZ_MDDn"
   },
   "outputs": [],
   "source": [
    "word = \"obama\"\n",
    "similarities = []\n",
    "\n",
    "word_vector = model.get_vector(word)\n",
    "\n",
    "for other_word in model.key_to_index.keys():\n",
    "    other_word_vector = model.get_vector(other_word)\n",
    "    similarity = cossim(word_vector, other_word_vector)\n",
    "    similarities.append({\n",
    "        \"word\": other_word,\n",
    "        \"sim\": similarity,\n",
    "    })\n",
    "\n"
   ]
  },
  {
   "cell_type": "code",
   "execution_count": 15,
   "metadata": {
    "colab": {
     "base_uri": "https://localhost:8080/"
    },
    "executionInfo": {
     "elapsed": 1528,
     "status": "ok",
     "timestamp": 1684194701658,
     "user": {
      "displayName": "Juan Manuel Pérez",
      "userId": "15517185988154421703"
     },
     "user_tz": 180
    },
    "id": "1kVlObLEMts6",
    "outputId": "3cdf98ab-1935-4739-a922-bb9b8af011a3"
   },
   "outputs": [
    {
     "data": {
      "text/plain": [
       "[{'word': 'obama', 'sim': 0.99999994},\n",
       " {'word': 'barack', 'sim': 0.92547214},\n",
       " {'word': 'mccain', 'sim': 0.75907695},\n",
       " {'word': 'bush', 'sim': 0.75709885},\n",
       " {'word': 'clinton', 'sim': 0.7085603},\n",
       " {'word': 'hillary', 'sim': 0.6497916},\n",
       " {'word': 'kerry', 'sim': 0.6144053},\n",
       " {'word': 'rodham', 'sim': 0.61386347},\n",
       " {'word': 'biden', 'sim': 0.59408516},\n",
       " {'word': 'gore', 'sim': 0.58859766},\n",
       " {'word': 'democrats', 'sim': 0.5608304},\n",
       " {'word': 'republicans', 'sim': 0.5388997},\n",
       " {'word': 'senator', 'sim': 0.53833956},\n",
       " {'word': 'presidential', 'sim': 0.5349615},\n",
       " {'word': 'romney', 'sim': 0.5313055},\n",
       " {'word': 'administration', 'sim': 0.5305255},\n",
       " {'word': 'aides', 'sim': 0.51924235},\n",
       " {'word': 'sarkozy', 'sim': 0.5056604},\n",
       " {'word': 'palin', 'sim': 0.5008039},\n",
       " {'word': 'cheney', 'sim': 0.49713778},\n",
       " {'word': 'campaign', 'sim': 0.49369255},\n",
       " {'word': 'dole', 'sim': 0.4924144},\n",
       " {'word': 'nominee', 'sim': 0.48723623},\n",
       " {'word': 'republican', 'sim': 0.47844192},\n",
       " {'word': 'senate', 'sim': 0.47597966},\n",
       " {'word': 'speech', 'sim': 0.47587553},\n",
       " {'word': 'pelosi', 'sim': 0.47430903},\n",
       " {'word': 'karzai', 'sim': 0.4729781},\n",
       " {'word': 'geithner', 'sim': 0.47189292},\n",
       " {'word': 'merkel', 'sim': 0.46170232},\n",
       " {'word': 'lawmakers', 'sim': 0.4608346},\n",
       " {'word': 'gop', 'sim': 0.46037483},\n",
       " {'word': 'debate', 'sim': 0.4590679},\n",
       " {'word': 'noting', 'sim': 0.4587319},\n",
       " {'word': 'w.', 'sim': 0.45587084},\n",
       " {'word': 'sen.', 'sim': 0.45505708},\n",
       " {'word': 'washington', 'sim': 0.4506444},\n",
       " {'word': 'voters', 'sim': 0.45063624},\n",
       " {'word': 'democratic', 'sim': 0.44958293},\n",
       " {'word': 'giuliani', 'sim': 0.44818994},\n",
       " {'word': 'promised', 'sim': 0.44635695},\n",
       " {'word': 'president', 'sim': 0.44570887},\n",
       " {'word': 'endorsed', 'sim': 0.44557542},\n",
       " {'word': 'democrat', 'sim': 0.44500524},\n",
       " {'word': 'edwards', 'sim': 0.44393367},\n",
       " {'word': 'ahmadinejad', 'sim': 0.44251433},\n",
       " {'word': 'campaigning', 'sim': 0.43972054},\n",
       " {'word': 'elect', 'sim': 0.43952477},\n",
       " {'word': 'delegates', 'sim': 0.43937463},\n",
       " {'word': 'congressional', 'sim': 0.43839014},\n",
       " {'word': 'pledged', 'sim': 0.437572},\n",
       " {'word': 'inauguration', 'sim': 0.43699807},\n",
       " {'word': 'spoke', 'sim': 0.43577918},\n",
       " {'word': 'nomination', 'sim': 0.43515483},\n",
       " {'word': 'polls', 'sim': 0.43500933},\n",
       " {'word': 'medvedev', 'sim': 0.43495047},\n",
       " {'word': 'vowed', 'sim': 0.4308555},\n",
       " {'word': 'lieberman', 'sim': 0.42969093},\n",
       " {'word': 'agenda', 'sim': 0.42314586},\n",
       " {'word': 'netanyahu', 'sim': 0.42164496},\n",
       " {'word': 'congress', 'sim': 0.42032394},\n",
       " {'word': 'putin', 'sim': 0.4196378},\n",
       " {'word': 'pledge', 'sim': 0.4192587},\n",
       " {'word': 'candidate', 'sim': 0.41860938},\n",
       " {'word': 'hopeful', 'sim': 0.4176456},\n",
       " {'word': 'white', 'sim': 0.4168673},\n",
       " {'word': 'saying', 'sim': 0.41683504},\n",
       " {'word': 'advisers', 'sim': 0.4162388},\n",
       " {'word': 'us', 'sim': 0.41617596},\n",
       " {'word': 'leaders', 'sim': 0.4161155},\n",
       " {'word': 'message', 'sim': 0.41528305},\n",
       " {'word': 'candidacy', 'sim': 0.4151465},\n",
       " {'word': 'policy', 'sim': 0.4135152},\n",
       " {'word': 'election', 'sim': 0.41348296},\n",
       " {'word': 'week', 'sim': 0.41321588},\n",
       " {'word': 'huckabee', 'sim': 0.4125862},\n",
       " {'word': 'plan', 'sim': 0.41253296},\n",
       " {'word': 'promise', 'sim': 0.41125613},\n",
       " {'word': 'remarks', 'sim': 0.41091165},\n",
       " {'word': 'vote', 'sim': 0.4097362},\n",
       " {'word': 'acknowledged', 'sim': 0.40916482},\n",
       " {'word': 'rumsfeld', 'sim': 0.40860522},\n",
       " {'word': 'proposal', 'sim': 0.4084289},\n",
       " {'word': 'calls', 'sim': 0.40804544},\n",
       " {'word': 'presidency', 'sim': 0.40735117},\n",
       " {'word': 'senators', 'sim': 0.40675366},\n",
       " {'word': 'reagan', 'sim': 0.40601763},\n",
       " {'word': 'clearly', 'sim': 0.40546867},\n",
       " {'word': 'criticism', 'sim': 0.40483055},\n",
       " {'word': 'stimulus', 'sim': 0.40464136},\n",
       " {'word': 'house', 'sim': 0.40447453},\n",
       " {'word': 'push', 'sim': 0.40316024},\n",
       " {'word': 'campaigned', 'sim': 0.40272576},\n",
       " {'word': 'promises', 'sim': 0.4020397},\n",
       " {'word': 'repeatedly', 'sim': 0.40161324},\n",
       " {'word': 'suggesting', 'sim': 0.40152115},\n",
       " {'word': 'hoped', 'sim': 0.40041554},\n",
       " {'word': 'bipartisan', 'sim': 0.40021163},\n",
       " {'word': 'ahead', 'sim': 0.39930958},\n",
       " {'word': 'americans', 'sim': 0.39882597},\n",
       " {'word': 'speeches', 'sim': 0.39754686},\n",
       " {'word': 'likely', 'sim': 0.39725205},\n",
       " {'word': 'whether', 'sim': 0.3970082},\n",
       " {'word': 'calling', 'sim': 0.39688453},\n",
       " {'word': 'wants', 'sim': 0.39640826},\n",
       " {'word': 'announcement', 'sim': 0.3963889},\n",
       " {'word': 'fundraising', 'sim': 0.39610666},\n",
       " {'word': 'pressed', 'sim': 0.39593622},\n",
       " {'word': 'supporters', 'sim': 0.3959212},\n",
       " {'word': 'comments', 'sim': 0.39577317},\n",
       " {'word': 'plans', 'sim': 0.3956467},\n",
       " {'word': 'strategy', 'sim': 0.39541134},\n",
       " {'word': 'tuesday', 'sim': 0.394298},\n",
       " {'word': 'signaled', 'sim': 0.39320615},\n",
       " {'word': 'condoleezza', 'sim': 0.39309415},\n",
       " {'word': 'u.s.', 'sim': 0.39247653},\n",
       " {'word': 'address', 'sim': 0.39129305},\n",
       " {'word': 'spending', 'sim': 0.3907746},\n",
       " {'word': 'schwarzenegger', 'sim': 0.39058164},\n",
       " {'word': 'intends', 'sim': 0.39046985},\n",
       " {'word': 'primaries', 'sim': 0.3903278},\n",
       " {'word': 'kennedy', 'sim': 0.3902627},\n",
       " {'word': 'bernanke', 'sim': 0.3902238},\n",
       " {'word': 'blair', 'sim': 0.390058},\n",
       " {'word': 'yet', 'sim': 0.38975942},\n",
       " {'word': 'suggested', 'sim': 0.3893953},\n",
       " {'word': 'criticized', 'sim': 0.38869864},\n",
       " {'word': 'effort', 'sim': 0.3884872},\n",
       " {'word': 'that', 'sim': 0.3857812},\n",
       " {'word': 'referring', 'sim': 0.38456425},\n",
       " {'word': 'candidates', 'sim': 0.383872},\n",
       " {'word': 'say', 'sim': 0.38318685},\n",
       " {'word': 'what', 'sim': 0.38274354},\n",
       " {'word': 'how', 'sim': 0.38264668},\n",
       " {'word': 'legislation', 'sim': 0.38125557},\n",
       " {'word': 'praised', 'sim': 0.38094372},\n",
       " {'word': 'mitt', 'sim': 0.3803978},\n",
       " {'word': 'telling', 'sim': 0.38037568},\n",
       " {'word': 'powell', 'sim': 0.3802822},\n",
       " {'word': 'proposals', 'sim': 0.37971947},\n",
       " {'word': 'conservatives', 'sim': 0.37911806},\n",
       " {'word': 'clear', 'sim': 0.37838116},\n",
       " {'word': 'neither', 'sim': 0.37794647},\n",
       " {'word': 'indeed', 'sim': 0.37745813},\n",
       " {'word': 'support', 'sim': 0.377394},\n",
       " {'word': 'aide', 'sim': 0.37703887},\n",
       " {'word': 'asked', 'sim': 0.37699383},\n",
       " {'word': 'wednesday', 'sim': 0.375145},\n",
       " {'word': 'insisted', 'sim': 0.37502667},\n",
       " {'word': 'george', 'sim': 0.3745269},\n",
       " {'word': 'policies', 'sim': 0.37452388},\n",
       " {'word': 'even', 'sim': 0.3744461},\n",
       " {'word': 'pledges', 'sim': 0.37438065},\n",
       " {'word': 'petraeus', 'sim': 0.37423027},\n",
       " {'word': 'commitment', 'sim': 0.3742057},\n",
       " {'word': 'bill', 'sim': 0.37369627},\n",
       " {'word': 'talk', 'sim': 0.37359622},\n",
       " {'word': 'change', 'sim': 0.37296587},\n",
       " {'word': 'sought', 'sim': 0.3720416},\n",
       " {'word': 'maliki', 'sim': 0.3714532},\n",
       " {'word': 'next', 'sim': 0.37137553},\n",
       " {'word': 'efforts', 'sim': 0.37114528},\n",
       " {'word': 'focus', 'sim': 0.3709545},\n",
       " {'word': 'seemed', 'sim': 0.37078694},\n",
       " {'word': 'has', 'sim': 0.3700998},\n",
       " {'word': 'tough', 'sim': 0.36962804},\n",
       " {'word': 'states', 'sim': 0.36951315},\n",
       " {'word': 'barak', 'sim': 0.36949483},\n",
       " {'word': 'already', 'sim': 0.36938113},\n",
       " {'word': 'urging', 'sim': 0.36898023},\n",
       " {'word': 'endorsement', 'sim': 0.36894053},\n",
       " {'word': 'thursday', 'sim': 0.3686722},\n",
       " {'word': 'talked', 'sim': 0.36854556},\n",
       " {'word': 'also', 'sim': 0.36780566},\n",
       " {'word': 'would', 'sim': 0.36750832},\n",
       " {'word': 'leadership', 'sim': 0.36661366},\n",
       " {'word': 'caucuses', 'sim': 0.36661},\n",
       " {'word': 'emphasized', 'sim': 0.36624554},\n",
       " {'word': 'sure', 'sim': 0.36611497},\n",
       " {'word': 'recent', 'sim': 0.36597234},\n",
       " {'word': 'though', 'sim': 0.36592346},\n",
       " {'word': 'gates', 'sim': 0.36534777},\n",
       " {'word': 'gov.', 'sim': 0.3652994},\n",
       " {'word': 'critics', 'sim': 0.3649303},\n",
       " {'word': 'hu', 'sim': 0.36472037},\n",
       " {'word': 'fact', 'sim': 0.36253124},\n",
       " {'word': 'reporters', 'sim': 0.3618241},\n",
       " {'word': 'rhetoric', 'sim': 0.36176848},\n",
       " {'word': 'interview', 'sim': 0.36164153},\n",
       " {'word': 'instead', 'sim': 0.3611069},\n",
       " {'word': 'political', 'sim': 0.36052087},\n",
       " {'word': 'schumer', 'sim': 0.36008814},\n",
       " {'word': 'welcomed', 'sim': 0.35995832},\n",
       " {'word': 'comes', 'sim': 0.3599349},\n",
       " {'word': 'afghanistan', 'sim': 0.35974225},\n",
       " {'word': 'monday', 'sim': 0.35955653},\n",
       " {'word': 'publicly', 'sim': 0.3592768},\n",
       " {'word': 'he', 'sim': 0.3590575},\n",
       " {'word': 'responded', 'sim': 0.35885984},\n",
       " {'word': 'hopes', 'sim': 0.358508},\n",
       " {'word': 'bradley', 'sim': 0.35839996},\n",
       " {'word': 'expected', 'sim': 0.35835242},\n",
       " {'word': 'meanwhile', 'sim': 0.3580989},\n",
       " {'word': 'appears', 'sim': 0.35786203},\n",
       " {'word': 'she', 'sim': 0.35778305},\n",
       " {'word': 'hope', 'sim': 0.35775998},\n",
       " {'word': 'month', 'sim': 0.35725358},\n",
       " {'word': 'come', 'sim': 0.3570075},\n",
       " {'word': 'musharraf', 'sim': 0.35612795},\n",
       " {'word': 'announcing', 'sim': 0.35578674},\n",
       " {'word': 'hoping', 'sim': 0.35565054},\n",
       " {'word': 'unveiled', 'sim': 0.35493404},\n",
       " {'word': 'should', 'sim': 0.35459128},\n",
       " {'word': 'iraq', 'sim': 0.35358825},\n",
       " {'word': 'both', 'sim': 0.35329774},\n",
       " {'word': 'believes', 'sim': 0.35310894},\n",
       " {'word': 'choice', 'sim': 0.35307536},\n",
       " {'word': 'put', 'sim': 0.35298926},\n",
       " {'word': 'everyone', 'sim': 0.3528706},\n",
       " {'word': 'arguing', 'sim': 0.35214764},\n",
       " {'word': 'michelle', 'sim': 0.35212812},\n",
       " {'word': 'urged', 'sim': 0.3520846},\n",
       " {'word': 'pentagon', 'sim': 0.35204402},\n",
       " {'word': 'officials', 'sim': 0.35195562},\n",
       " {'word': 'contrast', 'sim': 0.35193786},\n",
       " {'word': 'reform', 'sim': 0.35156426},\n",
       " {'word': 'giving', 'sim': 0.35156393},\n",
       " {'word': '\"', 'sim': 0.3514288},\n",
       " {'word': 'underscored', 'sim': 0.35133475},\n",
       " {'word': 'question', 'sim': 0.35070297},\n",
       " {'word': 'issue', 'sim': 0.35068724},\n",
       " {'word': 'despite', 'sim': 0.34999943},\n",
       " {'word': 'ads', 'sim': 0.34999913},\n",
       " {'word': 'announce', 'sim': 0.34995753},\n",
       " {'word': 'think', 'sim': 0.34988114},\n",
       " {'word': 'moment', 'sim': 0.34957957},\n",
       " {'word': 'governor', 'sim': 0.34929913},\n",
       " {'word': 'once', 'sim': 0.34920037},\n",
       " {'word': 'mocked', 'sim': 0.34895274},\n",
       " {'word': 'give', 'sim': 0.34856033},\n",
       " {'word': 'weeks', 'sim': 0.34850174},\n",
       " {'word': 'calderon', 'sim': 0.34847355},\n",
       " {'word': 'nation', 'sim': 0.34835583},\n",
       " {'word': 'recently', 'sim': 0.34824342},\n",
       " {'word': 'planned', 'sim': 0.3481835},\n",
       " {'word': 'why', 'sim': 0.34818336},\n",
       " {'word': 'pataki', 'sim': 0.3481577},\n",
       " {'word': 'trip', 'sim': 0.34784183},\n",
       " {'word': 'outlined', 'sim': 0.34778938},\n",
       " {'word': 'call', 'sim': 0.347649},\n",
       " {'word': 'job', 'sim': 0.34750846},\n",
       " {'word': 'those', 'sim': 0.34721354},\n",
       " {'word': 'friday', 'sim': 0.3471394},\n",
       " {'word': 'lula', 'sim': 0.3471162},\n",
       " {'word': '2008', 'sim': 0.34700337},\n",
       " {'word': 'if', 'sim': 0.347002},\n",
       " {'word': 'backers', 'sim': 0.34694666},\n",
       " {'word': 'nonetheless', 'sim': 0.34644014},\n",
       " {'word': 'america', 'sim': 0.3464164},\n",
       " {'word': 'allies', 'sim': 0.34627524},\n",
       " {'word': 'crist', 'sim': 0.34611267},\n",
       " {'word': 'insisting', 'sim': 0.34561595},\n",
       " {'word': 'showed', 'sim': 0.34557137},\n",
       " {'word': 'willingness', 'sim': 0.34510607},\n",
       " {'word': 'believe', 'sim': 0.34510547},\n",
       " {'word': 'focused', 'sim': 0.34502456},\n",
       " {'word': 'poll', 'sim': 0.34407842},\n",
       " {'word': 'daschle', 'sim': 0.34407747},\n",
       " {'word': 'jintao', 'sim': 0.3440004},\n",
       " {'word': 'criticizing', 'sim': 0.34378508},\n",
       " {'word': 'vowing', 'sim': 0.3437361},\n",
       " {'word': 'suggest', 'sim': 0.3436497},\n",
       " {'word': 'needs', 'sim': 0.3434483},\n",
       " {'word': 'earlier', 'sim': 0.34327155},\n",
       " {'word': 'sunday', 'sim': 0.34321335},\n",
       " {'word': 'paulson', 'sim': 0.342966},\n",
       " {'word': 're', 'sim': 0.3428414},\n",
       " {'word': 'presumptive', 'sim': 0.34278488},\n",
       " {'word': 'talking', 'sim': 0.34277785},\n",
       " {'word': 'capitol', 'sim': 0.34269968},\n",
       " {'word': 'just', 'sim': 0.3426534},\n",
       " {'word': 'but', 'sim': 0.34259936},\n",
       " {'word': 'his', 'sim': 0.34240064},\n",
       " {'word': 'hailed', 'sim': 0.34229243},\n",
       " {'word': 'priorities', 'sim': 0.34210178},\n",
       " {'word': 'endorse', 'sim': 0.34204438},\n",
       " {'word': 'opponents', 'sim': 0.3414829},\n",
       " {'word': 'iowa', 'sim': 0.3413298},\n",
       " {'word': 'make', 'sim': 0.34120035},\n",
       " {'word': 'pushed', 'sim': 0.34074244},\n",
       " {'word': 'gave', 'sim': 0.3407375},\n",
       " {'word': 'step', 'sim': 0.3406976},\n",
       " {'word': 'audience', 'sim': 0.34047225},\n",
       " {'word': 'him', 'sim': 0.34016863},\n",
       " {'word': 'says', 'sim': 0.34006515},\n",
       " {'word': 'response', 'sim': 0.33990875},\n",
       " {'word': 'debates', 'sim': 0.33976054},\n",
       " {'word': 'politics', 'sim': 0.33951202},\n",
       " {'word': 'viewed', 'sim': 0.33944717},\n",
       " {'word': 'speak', 'sim': 0.3392442},\n",
       " {'word': 'axelrod', 'sim': 0.3389141},\n",
       " {'word': 'take', 'sim': 0.33887836},\n",
       " {'word': 'opponent', 'sim': 0.33858895},\n",
       " {'word': 'zardari', 'sim': 0.3383082},\n",
       " {'word': 'indicated', 'sim': 0.3380479},\n",
       " {'word': 'seems', 'sim': 0.3380402},\n",
       " {'word': 'certainly', 'sim': 0.3378965},\n",
       " {'word': 'corzine', 'sim': 0.3377208},\n",
       " {'word': 'thinks', 'sim': 0.3376227},\n",
       " {'word': 'conservative', 'sim': 0.33736527},\n",
       " {'word': 'olmert', 'sim': 0.3366798},\n",
       " {'word': 'someone', 'sim': 0.3365628},\n",
       " {'word': 'initiatives', 'sim': 0.33645722},\n",
       " {'word': 'illinois', 'sim': 0.33630446},\n",
       " {'word': 'defended', 'sim': 0.33615464},\n",
       " {'word': 'idea', 'sim': 0.33543354},\n",
       " {'word': 'need', 'sim': 0.33536708},\n",
       " {'word': 'now', 'sim': 0.33526862},\n",
       " {'word': 'agree', 'sim': 0.3351693},\n",
       " {'word': 'so', 'sim': 0.33512536},\n",
       " {'word': 'battleground', 'sim': 0.3349166},\n",
       " {'word': 'must', 'sim': 0.3341168},\n",
       " {'word': 'actually', 'sim': 0.33411205},\n",
       " {'word': 'far', 'sim': 0.33400726},\n",
       " {'word': 'president-elect', 'sim': 0.33396095},\n",
       " {'word': 'personally', 'sim': 0.33366504},\n",
       " {'word': 'chavez', 'sim': 0.33359078},\n",
       " {'word': 'pressing', 'sim': 0.33354577},\n",
       " {'word': 'highlighted', 'sim': 0.33351588},\n",
       " {'word': 'pushing', 'sim': 0.3334147},\n",
       " {'word': 'before', 'sim': 0.33331865},\n",
       " {'word': 'mcchrystal', 'sim': 0.33214822},\n",
       " {'word': 'speaking', 'sim': 0.33214405},\n",
       " {'word': 'superdelegates', 'sim': 0.3320162},\n",
       " {'word': 'came', 'sim': 0.33198178},\n",
       " {'word': 'raising', 'sim': 0.3317793},\n",
       " {'word': 'campaigns', 'sim': 0.33164808},\n",
       " {'word': 'addressed', 'sim': 0.33150584},\n",
       " {'word': 'votes', 'sim': 0.3313792},\n",
       " {'word': 'warned', 'sim': 0.33088017},\n",
       " {'word': 'too', 'sim': 0.33079222},\n",
       " {'word': 'more', 'sim': 0.3304858},\n",
       " {'word': 'visit', 'sim': 0.33021474},\n",
       " {'word': 'prepared', 'sim': 0.3298769},\n",
       " {'word': 'approach', 'sim': 0.3295424},\n",
       " {'word': 'putting', 'sim': 0.32921118},\n",
       " {'word': 'pledging', 'sim': 0.32913584},\n",
       " {'word': 'uribe', 'sim': 0.32909527},\n",
       " {'word': 'adviser', 'sim': 0.32906803},\n",
       " {'word': 'met', 'sim': 0.3290623},\n",
       " {'word': 'praise', 'sim': 0.32905564},\n",
       " {'word': 'last', 'sim': 0.32894647},\n",
       " {'word': 'while', 'sim': 0.3289334},\n",
       " {'word': 'coming', 'sim': 0.32886603},\n",
       " {'word': 'hold', 'sim': 0.32830912},\n",
       " {'word': 'might', 'sim': 0.3282956},\n",
       " {'word': 'chirac', 'sim': 0.32823876},\n",
       " {'word': 'addressing', 'sim': 0.32823548},\n",
       " {'word': 'favored', 'sim': 0.3280572},\n",
       " {'word': 'overhaul', 'sim': 0.32796842},\n",
       " {'word': 'as', 'sim': 0.3279508},\n",
       " {'word': 'going', 'sim': 0.3278683},\n",
       " {'word': 'obamas', 'sim': 0.32779315},\n",
       " {'word': 'concerns', 'sim': 0.3276054},\n",
       " {'word': 'schroeder', 'sim': 0.32743838},\n",
       " {'word': 'reelection', 'sim': 0.32725272},\n",
       " {'word': 'stressed', 'sim': 0.32715052},\n",
       " {'word': 'same', 'sim': 0.32709754},\n",
       " {'word': 'way', 'sim': 0.32697266},\n",
       " {'word': 'secretary', 'sim': 0.326809},\n",
       " {'word': 'decision', 'sim': 0.3267122},\n",
       " {'word': 'much', 'sim': 0.3264125},\n",
       " {'word': 'eager', 'sim': 0.32638776},\n",
       " {'word': 'replied', 'sim': 0.32593536},\n",
       " {'word': 'expressed', 'sim': 0.32593453},\n",
       " {'word': 'favor', 'sim': 0.32593256},\n",
       " {'word': 'challenges', 'sim': 0.32580924},\n",
       " {'word': 'opportunity', 'sim': 0.32578972},\n",
       " {'word': 'embraced', 'sim': 0.32567912},\n",
       " {'word': 'weekend', 'sim': 0.32565603},\n",
       " {'word': 'saturday', 'sim': 0.32564145},\n",
       " {'word': '--', 'sim': 0.32562602},\n",
       " {'word': 'welcome', 'sim': 0.32518253},\n",
       " {'word': 'questions', 'sim': 0.324825},\n",
       " {'word': 'talks', 'sim': 0.32481074},\n",
       " {'word': 'statement', 'sim': 0.32467607},\n",
       " {'word': 'pointed', 'sim': 0.32462174},\n",
       " {'word': 'made', 'sim': 0.32440516},\n",
       " {'word': 'challenge', 'sim': 0.32415405},\n",
       " {'word': 'himself', 'sim': 0.32371533},\n",
       " {'word': 'abbas', 'sim': 0.32367253},\n",
       " {'word': 'describing', 'sim': 0.32366744},\n",
       " {'word': 'stance', 'sim': 0.32344377},\n",
       " {'word': 'cnn', 'sim': 0.32336348},\n",
       " {'word': 'will', 'sim': 0.3233043},\n",
       " {'word': 'could', 'sim': 0.3232312},\n",
       " {'word': 'her', 'sim': 0.32300153},\n",
       " {'word': 'not', 'sim': 0.3229242},\n",
       " {'word': 'showing', 'sim': 0.32277262},\n",
       " {'word': 'exactly', 'sim': 0.3225807},\n",
       " {'word': 'meant', 'sim': 0.3225786},\n",
       " {'word': 'up', 'sim': 0.32247874},\n",
       " {'word': 'something', 'sim': 0.32206827},\n",
       " {'word': 'tone', 'sim': 0.32189173},\n",
       " {'word': 'argued', 'sim': 0.32185343},\n",
       " {'word': 'blagojevich', 'sim': 0.32182318},\n",
       " {'word': 'wrong', 'sim': 0.32176736},\n",
       " {'word': 'called', 'sim': 0.32112223},\n",
       " {'word': 'discussed', 'sim': 0.3209045},\n",
       " {'word': 'quickly', 'sim': 0.32082587},\n",
       " {'word': 'highlighting', 'sim': 0.32078046},\n",
       " {'word': 'primary', 'sim': 0.32068947},\n",
       " {'word': 'shows', 'sim': 0.32066357},\n",
       " {'word': 'does', 'sim': 0.32065195},\n",
       " {'word': 'cuts', 'sim': 0.32063594},\n",
       " {'word': 'touted', 'sim': 0.3205184},\n",
       " {'word': 'adding', 'sim': 0.32046357},\n",
       " {'word': 'gephardt', 'sim': 0.32034487},\n",
       " {'word': 'embrace', 'sim': 0.32022095},\n",
       " {'word': 'new', 'sim': 0.32014507},\n",
       " {'word': 'proposed', 'sim': 0.32013857},\n",
       " {'word': 'stressing', 'sim': 0.3201018},\n",
       " {'word': 'proposing', 'sim': 0.32009774},\n",
       " {'word': 'ago', 'sim': 0.32003313},\n",
       " {'word': 'delivered', 'sim': 0.3194985},\n",
       " {'word': 'steps', 'sim': 0.31941405},\n",
       " {'word': 'forbes', 'sim': 0.3193964},\n",
       " {'word': 'dodd', 'sim': 0.31934255},\n",
       " {'word': 'announced', 'sim': 0.31921366},\n",
       " {'word': 'move', 'sim': 0.31907225},\n",
       " {'word': 'priority', 'sim': 0.3190145},\n",
       " {'word': 'countered', 'sim': 0.31877118},\n",
       " {'word': 'middle', 'sim': 0.31876093},\n",
       " {'word': 'measure', 'sim': 0.318746},\n",
       " {'word': 'asserted', 'sim': 0.31867734},\n",
       " {'word': 'explaining', 'sim': 0.31840962},\n",
       " {'word': 'did', 'sim': 0.31813604},\n",
       " {'word': 'shift', 'sim': 0.31805575},\n",
       " {'word': 'opposition', 'sim': 0.31796306},\n",
       " {'word': 'momentum', 'sim': 0.31787094},\n",
       " {'word': 'making', 'sim': 0.31772304},\n",
       " {'word': 'whoever', 'sim': 0.3176998},\n",
       " {'word': 'opinion', 'sim': 0.3176145},\n",
       " {'word': 'days', 'sim': 0.31760547},\n",
       " {'word': 'taking', 'sim': 0.3175992},\n",
       " {'word': 'critical', 'sim': 0.31756938},\n",
       " {'word': 'wanted', 'sim': 0.3171353},\n",
       " {'word': 'seen', 'sim': 0.31711566},\n",
       " {'word': 'rove', 'sim': 0.31710032},\n",
       " {'word': 'on', 'sim': 0.3170187},\n",
       " {'word': 'answer', 'sim': 0.31674498},\n",
       " {'word': 'strategists', 'sim': 0.31654674},\n",
       " {'word': 'told', 'sim': 0.31647804},\n",
       " {'word': 'specter', 'sim': 0.31640682},\n",
       " {'word': 'want', 'sim': 0.3163586},\n",
       " {'word': 'willing', 'sim': 0.31623304},\n",
       " {'word': 'televised', 'sim': 0.31620485},\n",
       " {'word': 'argument', 'sim': 0.3161057},\n",
       " {'word': 'jhaw', 'sim': 0.31606135},\n",
       " {'word': 'unlikely', 'sim': 0.31597582},\n",
       " {'word': 'deal', 'sim': 0.31594887},\n",
       " {'word': 'trying', 'sim': 0.3159267},\n",
       " {'word': 'raised', 'sim': 0.31582233},\n",
       " {'word': 'boost', 'sim': 0.31567883},\n",
       " {'word': 'hatoyama', 'sim': 0.31545705},\n",
       " {'word': 'looks', 'sim': 0.315323},\n",
       " {'word': 'transition', 'sim': 0.3152179},\n",
       " {'word': 'asking', 'sim': 0.31499738},\n",
       " {'word': 'declaring', 'sim': 0.31454998},\n",
       " {'word': 'ought', 'sim': 0.3145073},\n",
       " {'word': 'sens.', 'sim': 0.31448063},\n",
       " {'word': 'gubernatorial', 'sim': 0.31447527},\n",
       " {'word': 'expect', 'sim': 0.31438255},\n",
       " {'word': 'meeting', 'sim': 0.31415984},\n",
       " {'word': 'united', 'sim': 0.31413332},\n",
       " {'word': 'backing', 'sim': 0.3139747},\n",
       " {'word': 'questioned', 'sim': 0.31396812},\n",
       " {'word': 'issues', 'sim': 0.31396466},\n",
       " {'word': 'show', 'sim': 0.31395254},\n",
       " {'word': 'perhaps', 'sim': 0.31368572},\n",
       " {'word': 'ready', 'sim': 0.3136351},\n",
       " {'word': 'skeptical', 'sim': 0.31358165},\n",
       " {'word': 'highlight', 'sim': 0.31331885},\n",
       " {'word': 'presidents', 'sim': 0.31322315},\n",
       " {'word': 'nothing', 'sim': 0.31318155},\n",
       " {'word': 'offered', 'sim': 0.3130642},\n",
       " {'word': 'boehner', 'sim': 0.31277248},\n",
       " {'word': 'mccurry', 'sim': 0.31249425},\n",
       " {'word': 'really', 'sim': 0.31236178},\n",
       " {'word': 'press', 'sim': 0.31233364},\n",
       " {'word': 'this', 'sim': 0.31225505},\n",
       " {'word': 'fundraisers', 'sim': 0.31223127},\n",
       " {'word': 'tell', 'sim': 0.3122154},\n",
       " {'word': 'respond', 'sim': 0.31218645},\n",
       " {'word': 'albright', 'sim': 0.31197196},\n",
       " {'word': 'oppose', 'sim': 0.31196767},\n",
       " {'word': 'picked', 'sim': 0.31194255},\n",
       " {'word': 'privately', 'sim': 0.31154922},\n",
       " {'word': 'considering', 'sim': 0.31115118},\n",
       " {'word': 'gonzales', 'sim': 0.310635},\n",
       " {'word': 'cuomo', 'sim': 0.31051722},\n",
       " {'word': 'doing', 'sim': 0.31048632},\n",
       " {'word': 'again', 'sim': 0.31036022},\n",
       " {'word': 'get', 'sim': 0.31019178},\n",
       " {'word': 'progress', 'sim': 0.31015962},\n",
       " {'word': 'sotomayor', 'sim': 0.30986816},\n",
       " {'word': 'turn', 'sim': 0.30963892},\n",
       " {'word': 'opposed', 'sim': 0.30942938},\n",
       " {'word': 'global', 'sim': 0.30915815},\n",
       " {'word': 'party', 'sim': 0.3091145},\n",
       " {'word': 'noted', 'sim': 0.3090842},\n",
       " {'word': 'views', 'sim': 0.30892444},\n",
       " {'word': 'over', 'sim': 0.30880344},\n",
       " {'word': 'done', 'sim': 0.30880213},\n",
       " {'word': 'yes', 'sim': 0.30876037},\n",
       " {'word': 'understands', 'sim': 0.30867308},\n",
       " {'word': 'nominating', 'sim': 0.30864936},\n",
       " {'word': 'worried', 'sim': 0.30857334},\n",
       " {'word': 'than', 'sim': 0.3085347},\n",
       " {'word': 'out', 'sim': 0.3084174},\n",
       " {'word': 'economic', 'sim': 0.30828157},\n",
       " {'word': 'reminded', 'sim': 0.30807227},\n",
       " {'word': 'approval', 'sim': 0.30805278},\n",
       " {'word': 'contests', 'sim': 0.30796498},\n",
       " {'word': 'vice', 'sim': 0.3078752},\n",
       " {'word': 'conference', 'sim': 0.30783468},\n",
       " {'word': 'sworn', 'sim': 0.30778113},\n",
       " {'word': 'stated', 'sim': 0.30775607},\n",
       " {'word': 'although', 'sim': 0.3077428},\n",
       " {'word': 'we', 'sim': 0.3076024},\n",
       " {'word': 'know', 'sim': 0.30751845},\n",
       " {'word': 'attention', 'sim': 0.30703977},\n",
       " {'word': 'statements', 'sim': 0.30690774},\n",
       " {'word': 'initiative', 'sim': 0.30677137},\n",
       " {'word': 'months', 'sim': 0.30676863},\n",
       " {'word': 'help', 'sim': 0.30666497},\n",
       " {'word': 'likewise', 'sim': 0.30658987},\n",
       " {'word': 'vows', 'sim': 0.30648443},\n",
       " {'word': 'tougher', 'sim': 0.3064208},\n",
       " {'word': 'carter', 'sim': 0.306386},\n",
       " {'word': 'fundraiser', 'sim': 0.30638108},\n",
       " {'word': 'who', 'sim': 0.3062646},\n",
       " {'word': 'peres', 'sim': 0.30624655},\n",
       " {'word': 'deliver', 'sim': 0.30620623},\n",
       " {'word': 'denounced', 'sim': 0.3061629},\n",
       " {'word': 'compromise', 'sim': 0.30611986},\n",
       " {'word': 'doubt', 'sim': 0.30590513},\n",
       " {'word': 'race', 'sim': 0.30589306},\n",
       " {'word': 'endorsing', 'sim': 0.3058341},\n",
       " {'word': 'getting', 'sim': 0.30570868},\n",
       " {'word': 'similar', 'sim': 0.30570263},\n",
       " {'word': 'elections', 'sim': 0.30527735},\n",
       " {'word': 'aside', 'sim': 0.30525762},\n",
       " {'word': 'surge', 'sim': 0.30510363},\n",
       " {'word': 'given', 'sim': 0.3050327},\n",
       " {'word': 'mention', 'sim': 0.30497584},\n",
       " {'word': 'supporter', 'sim': 0.30467853},\n",
       " {'word': 'day', 'sim': 0.30460683},\n",
       " {'word': 'confident', 'sim': 0.3045199},\n",
       " {'word': 'victory', 'sim': 0.3044844},\n",
       " {'word': 'bring', 'sim': 0.30438262},\n",
       " {'word': 'time', 'sim': 0.30385077},\n",
       " {'word': 'plouffe', 'sim': 0.30380127},\n",
       " {'word': 'promising', 'sim': 0.3036999},\n",
       " {'word': 'always', 'sim': 0.3036905},\n",
       " {'word': 'sharply', 'sim': 0.3036345},\n",
       " {'word': 'have', 'sim': 0.3034655},\n",
       " {'word': 'hopefuls', 'sim': 0.30345255},\n",
       " {'word': 'hand', 'sim': 0.3033229},\n",
       " {'word': 'took', 'sim': 0.30294338},\n",
       " {'word': 'gingrich', 'sim': 0.30289698},\n",
       " {'word': 'nevertheless', 'sim': 0.30285844},\n",
       " {'word': 'chose', 'sim': 0.3028549},\n",
       " {'word': 'appeared', 'sim': 0.30275464},\n",
       " {'word': 'explain', 'sim': 0.30261177},\n",
       " {'word': 'reason', 'sim': 0.30257306},\n",
       " {'word': 'however', 'sim': 0.30252436},\n",
       " {'word': 'simply', 'sim': 0.30249748},\n",
       " {'word': 'argue', 'sim': 0.3020858},\n",
       " {'word': 'ask', 'sim': 0.30190775},\n",
       " {'word': 'terrorism', 'sim': 0.30183578},\n",
       " {'word': 'sharon', 'sim': 0.30161867},\n",
       " {'word': 'castro', 'sim': 0.30158594},\n",
       " {'word': 'acknowledging', 'sim': 0.30147377},\n",
       " {'word': 'chance', 'sim': 0.30140245},\n",
       " {'word': 'yudhoyono', 'sim': 0.30137888},\n",
       " {'word': 'nearly', 'sim': 0.30136144},\n",
       " {'word': 'first', 'sim': 0.3011969},\n",
       " {'word': 'criticize', 'sim': 0.30113858},\n",
       " {'word': 'conceded', 'sim': 0.30104566},\n",
       " {'word': 'takes', 'sim': 0.30101144},\n",
       " {'word': 'well', 'sim': 0.30096382},\n",
       " {'word': 'needed', 'sim': 0.3008458},\n",
       " {'word': 'for', 'sim': 0.30082363},\n",
       " {'word': 'mbeki', 'sim': 0.30081663},\n",
       " {'word': 'joked', 'sim': 0.3007473},\n",
       " {'word': 'anyone', 'sim': 0.30062044},\n",
       " {'word': 'crucial', 'sim': 0.30048564},\n",
       " {'word': 'because', 'sim': 0.30048257},\n",
       " {'word': 'speaks', 'sim': 0.30046377},\n",
       " {'word': 'afghan', 'sim': 0.30038276},\n",
       " {'word': 'ways', 'sim': 0.30025733},\n",
       " {'word': 'words', 'sim': 0.30014515},\n",
       " {'word': 'notion', 'sim': 0.29999065},\n",
       " {'word': 'supported', 'sim': 0.29995278},\n",
       " {'word': 'caucus', 'sim': 0.2999022},\n",
       " {'word': 'instance', 'sim': 0.29976368},\n",
       " {'word': 'when', 'sim': 0.2997541},\n",
       " {'word': 'assured', 'sim': 0.2996445},\n",
       " {'word': 'congratulated', 'sim': 0.29957923},\n",
       " {'word': 'immediately', 'sim': 0.29948816},\n",
       " {'word': 'assertion', 'sim': 0.299382},\n",
       " {'word': 'unprecedented', 'sim': 0.2991417},\n",
       " {'word': 'praising', 'sim': 0.2991071},\n",
       " {'word': 'unpopular', 'sim': 0.2990571},\n",
       " {'word': 'ashcroft', 'sim': 0.29900473},\n",
       " {'word': 'knows', 'sim': 0.29894397},\n",
       " {'word': 'intended', 'sim': 0.2989388},\n",
       " {'word': 'lady', 'sim': 0.2989173},\n",
       " {'word': 'contentious', 'sim': 0.29882815},\n",
       " {'word': 'less', 'sim': 0.29882652},\n",
       " {'word': 'herself', 'sim': 0.29845667},\n",
       " {'word': 'analysts', 'sim': 0.29829416},\n",
       " {'word': 'look', 'sim': 0.2982667},\n",
       " {'word': 'kind', 'sim': 0.29820138},\n",
       " {'word': 'abe', 'sim': 0.29815271},\n",
       " {'word': 'gibbs', 'sim': 0.2980098},\n",
       " {'word': 'jobs', 'sim': 0.29799804},\n",
       " {'word': 'having', 'sim': 0.29798496},\n",
       " {'word': 'whom', 'sim': 0.29778743},\n",
       " {'word': 'outcome', 'sim': 0.29772386},\n",
       " {'word': 'renewed', 'sim': 0.2977124},\n",
       " {'word': 'meet', 'sim': 0.29764208},\n",
       " {'word': 'follow', 'sim': 0.29762316},\n",
       " {'word': 'choosing', 'sim': 0.2975605},\n",
       " {'word': 'whatever', 'sim': 0.29736277},\n",
       " {'word': 'challenged', 'sim': 0.29729804},\n",
       " {'word': 'backed', 'sim': 0.29719543},\n",
       " {'word': 'sees', 'sim': 0.29699862},\n",
       " {'word': 'engagement', 'sim': 0.29673517},\n",
       " {'word': 'rivals', 'sim': 0.2966734},\n",
       " {'word': 'hampshire', 'sim': 0.2966449},\n",
       " {'word': 'koizumi', 'sim': 0.2966235},\n",
       " {'word': 'else', 'sim': 0.29662046},\n",
       " {'word': 'be', 'sim': 0.2966202},\n",
       " {'word': 'key', 'sim': 0.29647636},\n",
       " {'word': 'seeking', 'sim': 0.29644},\n",
       " {'word': 'economy', 'sim': 0.29639176},\n",
       " {'word': 'rather', 'sim': 0.29611123},\n",
       " {'word': 'let', 'sim': 0.29608077},\n",
       " {'word': 'remark', 'sim': 0.29590324},\n",
       " {'word': 'howard', 'sim': 0.29589006},\n",
       " {'word': 'here', 'sim': 0.29575583},\n",
       " {'word': 'moves', 'sim': 0.29547355},\n",
       " {'word': 'unveil', 'sim': 0.29546013},\n",
       " {'word': 'go', 'sim': 0.295306},\n",
       " {'word': 'bayh', 'sim': 0.29523396},\n",
       " {'word': 'toward', 'sim': 0.29522136},\n",
       " {'word': 'crisis', 'sim': 0.2951094},\n",
       " {'word': 'seek', 'sim': 0.29505953},\n",
       " {'word': 'behind', 'sim': 0.29505217},\n",
       " {'word': 'things', 'sim': 0.2948892},\n",
       " {'word': 'similarly', 'sim': 0.29487953},\n",
       " {'word': 'puts', 'sim': 0.2946204},\n",
       " {'word': 'summit', 'sim': 0.29448205},\n",
       " {'word': 'succeed', 'sim': 0.2944286},\n",
       " {'word': 'politicians', 'sim': 0.2943669},\n",
       " {'word': 'every', 'sim': 0.29431337},\n",
       " {'word': 'iran', 'sim': 0.29405746},\n",
       " {'word': 'suggestion', 'sim': 0.29403394},\n",
       " {'word': 'enough', 'sim': 0.2940003},\n",
       " {'word': 'office', 'sim': 0.2939858},\n",
       " {'word': 'midterm', 'sim': 0.29385915},\n",
       " {'word': 'controversy', 'sim': 0.2938164},\n",
       " {'word': 'to', 'sim': 0.29376614},\n",
       " {'word': 'bloomberg', 'sim': 0.29361153},\n",
       " {'word': 'reid', 'sim': 0.29351845},\n",
       " {'word': 'afterward', 'sim': 0.29346943},\n",
       " {'word': 'security', 'sim': 0.2933277},\n",
       " {'word': 'cited', 'sim': 0.29330283},\n",
       " {'word': 'back', 'sim': 0.29315454},\n",
       " {'word': 'stronger', 'sim': 0.2931325},\n",
       " {'word': 'surrogates', 'sim': 0.29310346},\n",
       " {'word': '¥', 'sim': 0.29290977},\n",
       " {'word': 'reiterated', 'sim': 0.2928592},\n",
       " {'word': 'behalf', 'sim': 0.29280236},\n",
       " {'word': 'nor', 'sim': 0.29272342},\n",
       " {'word': 'surprise', 'sim': 0.2926817},\n",
       " {'word': 'it', 'sim': 0.29256135},\n",
       " {'word': 'surely', 'sim': 0.29255092},\n",
       " {'word': 'keep', 'sim': 0.29251558},\n",
       " {'word': 'favors', 'sim': 0.29251358},\n",
       " {'word': 'spend', 'sim': 0.2924533},\n",
       " {'word': 'responding', 'sim': 0.29233986},\n",
       " {'word': 'portray', 'sim': 0.2922169},\n",
       " {'word': 'reflected', 'sim': 0.29204783},\n",
       " {'word': 'donors', 'sim': 0.29188493},\n",
       " {'word': 'divisive', 'sim': 0.2918502},\n",
       " {'word': 'rudd', 'sim': 0.29178426},\n",
       " {'word': 'repeated', 'sim': 0.29162318},\n",
       " {'word': 'close', 'sim': 0.2914663},\n",
       " {'word': 'turned', 'sim': 0.29140908},\n",
       " {'word': 'preparing', 'sim': 0.29136562},\n",
       " {'word': 'credentials', 'sim': 0.29129067},\n",
       " {'word': 'lobbying', 'sim': 0.29126674},\n",
       " {'word': 'some', 'sim': 0.29122004},\n",
       " {'word': 'approve', 'sim': 0.29106742},\n",
       " {'word': 'ambitious', 'sim': 0.2910291},\n",
       " {'word': 'which', 'sim': 0.2909753},\n",
       " {'word': 'discussion', 'sim': 0.29096028},\n",
       " {'word': 'fight', 'sim': 0.2909492},\n",
       " {'word': 'said', 'sim': 0.29084587},\n",
       " {'word': 'thought', 'sim': 0.29082245},\n",
       " {'word': 'opposing', 'sim': 0.29076463},\n",
       " {'word': 'prepares', 'sim': 0.29074922},\n",
       " {'word': 'top', 'sim': 0.29073516},\n",
       " {'word': 'raise', 'sim': 0.2907045},\n",
       " {'word': 'stop', 'sim': 0.29067126},\n",
       " {'word': 'care', 'sim': 0.2906297},\n",
       " {'word': 'unveiling', 'sim': 0.29050097},\n",
       " {'word': 'veto', 'sim': 0.29050016},\n",
       " {'word': 'spotlight', 'sim': 0.29048124},\n",
       " {'word': 'rally', 'sim': 0.29033583},\n",
       " {'word': 'ties', 'sim': 0.29010317},\n",
       " {'word': 'supreme', 'sim': 0.29009858},\n",
       " {'word': 'voter', 'sim': 0.2900251},\n",
       " {'word': 'obviously', 'sim': 0.2899839},\n",
       " {'word': 'discuss', 'sim': 0.28985265},\n",
       " {'word': 'hardly', 'sim': 0.28963593},\n",
       " {'word': 'own', 'sim': 0.28962782},\n",
       " {'word': 'bluntly', 'sim': 0.28961977},\n",
       " {'word': 'strongly', 'sim': 0.28961915},\n",
       " {'word': 'whitman', 'sim': 0.2892649},\n",
       " {'word': 'then', 'sim': 0.2891357},\n",
       " {'word': 'anything', 'sim': 0.28903747},\n",
       " {'word': 'terror', 'sim': 0.28902158},\n",
       " {'word': 'interviews', 'sim': 0.28899643},\n",
       " {'word': 'anger', 'sim': 0.28892627},\n",
       " {'word': 'win', 'sim': 0.28879997},\n",
       " {'word': 'briefing', 'sim': 0.28874218},\n",
       " {'word': 'agreed', 'sim': 0.2887239},\n",
       " {'word': 'harder', 'sim': 0.28868663},\n",
       " {'word': 'turning', 'sim': 0.28863257},\n",
       " {'word': 'they', 'sim': 0.28838903},\n",
       " {'word': 'term', 'sim': 0.28832367},\n",
       " {'word': 'winfrey', 'sim': 0.28816557},\n",
       " {'word': 'mideast', 'sim': 0.28810576},\n",
       " {'word': 'doubts', 'sim': 0.28810462},\n",
       " {'word': 'never', 'sim': 0.2879939},\n",
       " {'word': 'florida', 'sim': 0.2879705},\n",
       " {'word': 'had', 'sim': 0.2878506},\n",
       " {'word': 'bachelet', 'sim': 0.28784215},\n",
       " {'word': 'emphasizing', 'sim': 0.28778476},\n",
       " {'word': 'everything', 'sim': 0.2877161},\n",
       " {'word': 'ultimately', 'sim': 0.28766227},\n",
       " {'word': 'delay', 'sim': 0.28765726},\n",
       " {'word': \"n't\", 'sim': 0.28757495},\n",
       " {'word': 'acknowledge', 'sim': 0.28756958},\n",
       " {'word': 'package', 'sim': 0.287549},\n",
       " {'word': 'only', 'sim': 0.2873777},\n",
       " {'word': 'official', 'sim': 0.28735146},\n",
       " {'word': 'fleischer', 'sim': 0.2872809},\n",
       " {'word': 'frist', 'sim': 0.2872588},\n",
       " {'word': 'aimed', 'sim': 0.28716943},\n",
       " {'word': 'urge', 'sim': 0.28707832},\n",
       " {'word': 'matter', 'sim': 0.2869366},\n",
       " {'word': 'latest', 'sim': 0.2869307},\n",
       " {'word': 'cautioned', 'sim': 0.28685167},\n",
       " {'word': 'budget', 'sim': 0.28680596},\n",
       " {'word': 'broader', 'sim': 0.2867911},\n",
       " {'word': 'mahmoud', 'sim': 0.28675026},\n",
       " {'word': 'lott', 'sim': 0.2866734},\n",
       " {'word': 'stand', 'sim': 0.28667077},\n",
       " {'word': 'applauded', 'sim': 0.2865842},\n",
       " {'word': \"'m\", 'sim': 0.28656042},\n",
       " {'word': 'santorum', 'sim': 0.28646004},\n",
       " {'word': 'our', 'sim': 0.28643212},\n",
       " {'word': 'appointment', 'sim': 0.28631577},\n",
       " {'word': 'voting', 'sim': 0.28628406},\n",
       " {'word': 'michigan', 'sim': 0.2862794},\n",
       " {'word': 'looking', 'sim': 0.28622627},\n",
       " {'word': 'immigration', 'sim': 0.2861856},\n",
       " {'word': 'john', 'sim': 0.2860449},\n",
       " {'word': 'still', 'sim': 0.28602886},\n",
       " {'word': 'aggressively', 'sim': 0.286001},\n",
       " {'word': 'hard', 'sim': 0.28596047},\n",
       " {'word': 'stay', 'sim': 0.28588876},\n",
       " {'word': 'zapatero', 'sim': 0.2858071},\n",
       " {'word': 'few', 'sim': 0.28575805},\n",
       " {'word': \"'ll\", 'sim': 0.2857352},\n",
       " {'word': 'controversial', 'sim': 0.28570393},\n",
       " {'word': 'everybody', 'sim': 0.2857032},\n",
       " {'word': 'any', 'sim': 0.28565902},\n",
       " {'word': 'voted', 'sim': 0.28553674},\n",
       " {'word': 'tapped', 'sim': 0.28548267},\n",
       " {'word': 'nixon', 'sim': 0.28530863},\n",
       " {'word': 'attacks', 'sim': 0.28525606},\n",
       " {'word': 'gillibrand', 'sim': 0.28518906},\n",
       " {'word': 'shown', 'sim': 0.28514716},\n",
       " {'word': 'got', 'sim': 0.28511298},\n",
       " {'word': 'warming', 'sim': 0.28506514},\n",
       " {'word': 'quietly', 'sim': 0.28498107},\n",
       " {'word': 'is', 'sim': 0.28491133},\n",
       " {'word': '2004', 'sim': 0.28481638},\n",
       " {'word': 'public', 'sim': 0.28470093},\n",
       " {'word': 'money', 'sim': 0.28468236},\n",
       " {'word': 'government', 'sim': 0.2845562},\n",
       " {'word': 'convention', 'sim': 0.28450608},\n",
       " {'word': 'amid', 'sim': 0.28449845},\n",
       " {'word': 'declared', 'sim': 0.28437608},\n",
       " {'word': 'rejected', 'sim': 0.28425965},\n",
       " {'word': 'tax', 'sim': 0.28423557},\n",
       " {'word': 'leader', 'sim': 0.28417444},\n",
       " {'word': 'seeks', 'sim': 0.28406993},\n",
       " {'word': 'enthusiasm', 'sim': 0.28385696},\n",
       " {'word': 'peace', 'sim': 0.2838196},\n",
       " {'word': 'endorsements', 'sim': 0.2837997},\n",
       " {'word': 'arafat', 'sim': 0.2837602},\n",
       " {'word': 'try', 'sim': 0.28352574},\n",
       " {'word': 'advertisement', 'sim': 0.2834981},\n",
       " {'word': 'experience', 'sim': 0.28347877},\n",
       " {'word': 'sarah', 'sim': 0.2833502},\n",
       " {'word': 'about', 'sim': 0.28321213},\n",
       " {'word': 'another', 'sim': 0.28300023},\n",
       " {'word': \"'ve\", 'sim': 0.28281617},\n",
       " {'word': 'described', 'sim': 0.28266364},\n",
       " {'word': 'desire', 'sim': 0.282628},\n",
       " {'word': 'colleagues', 'sim': 0.28257263},\n",
       " {'word': 'likened', 'sim': 0.28245753},\n",
       " {'word': 'criticisms', 'sim': 0.2822745},\n",
       " {'word': 'greeted', 'sim': 0.28223702},\n",
       " {'word': 'spoken', 'sim': 0.28217423},\n",
       " {'word': 'bipartisanship', 'sim': 0.28213128},\n",
       " {'word': 'big', 'sim': 0.28206554},\n",
       " {'word': 'somebody', 'sim': 0.2820143},\n",
       " {'word': 'conversation', 'sim': 0.2818981},\n",
       " {'word': 'parties', 'sim': 0.2818532},\n",
       " {'word': 'jiang', 'sim': 0.28182125},\n",
       " {'word': 'holbrooke', 'sim': 0.2818131},\n",
       " {'word': 'upcoming', 'sim': 0.28172448},\n",
       " {'word': 'contenders', 'sim': 0.28169674},\n",
       " {'word': 'questioning', 'sim': 0.28143942},\n",
       " {'word': 'intention', 'sim': 0.28143135},\n",
       " {'word': 'delegate', 'sim': 0.2814259},\n",
       " {'word': 'buchanan', 'sim': 0.28137866},\n",
       " {'word': 'discussions', 'sim': 0.28125265},\n",
       " {'word': 'limits', 'sim': 0.28125164},\n",
       " {'word': 'pleased', 'sim': 0.2812478},\n",
       " {'word': 'suggests', 'sim': 0.28117445},\n",
       " {'word': 'echoed', 'sim': 0.28115526},\n",
       " {'word': 'thanked', 'sim': 0.28115523},\n",
       " {'word': 'mugabe', 'sim': 0.2811124},\n",
       " {'word': 'hear', 'sim': 0.2810641},\n",
       " {'word': 'beyond', 'sim': 0.28103662},\n",
       " {'word': 'face', 'sim': 0.28085387},\n",
       " {'word': 'hearings', 'sim': 0.2808255},\n",
       " {'word': 'one', 'sim': 0.2806899},\n",
       " {'word': 'diplomacy', 'sim': 0.2805962},\n",
       " {'word': 'view', 'sim': 0.2805584},\n",
       " {'word': 'them', 'sim': 0.28037632},\n",
       " {'word': 'troop', 'sim': 0.28029814},\n",
       " {'word': 'attend', 'sim': 0.28027025},\n",
       " {'word': 'mubarak', 'sim': 0.2801527},\n",
       " {'word': 'climate', 'sim': 0.28015208},\n",
       " {'word': 'concerned', 'sim': 0.2801387},\n",
       " {'word': 'actions', 'sim': 0.28007367},\n",
       " {'word': 'unclear', 'sim': 0.28000268},\n",
       " {'word': 'after', 'sim': 0.27998665},\n",
       " {'word': 'vow', 'sim': 0.2799648},\n",
       " {'word': 'task', 'sim': 0.27994877},\n",
       " {'word': 'gives', 'sim': 0.27989838},\n",
       " {'word': 'helping', 'sim': 0.27989426},\n",
       " {'word': 'meetings', 'sim': 0.279883},\n",
       " {'word': 'opposes', 'sim': 0.27978185},\n",
       " {'word': 'future', 'sim': 0.27970392},\n",
       " {'word': 'mentioned', 'sim': 0.27964455},\n",
       " {'word': 'discussing', 'sim': 0.2796247},\n",
       " {'word': 'reassure', 'sim': 0.2796052},\n",
       " {'word': 'phone', 'sim': 0.27958357},\n",
       " {'word': 'focusing', 'sim': 0.27958125},\n",
       " {'word': 'counter', 'sim': 0.27957007},\n",
       " {'word': \"'d\", 'sim': 0.27941775},\n",
       " {'word': 'clintons', 'sim': 0.2793626},\n",
       " {'word': 'strong', 'sim': 0.2793023},\n",
       " {'word': '?', 'sim': 0.27929235},\n",
       " {'word': 'later', 'sim': 0.27926573},\n",
       " {'word': 'spent', 'sim': 0.27908412},\n",
       " {'word': 'sign', 'sim': 0.2790695},\n",
       " {'word': 'media', 'sim': 0.2790629},\n",
       " {'word': 'send', 'sim': 0.27881685},\n",
       " {'word': 'bailout', 'sim': 0.27875757},\n",
       " {'word': 'jeb', 'sim': 0.2787349},\n",
       " {'word': 'visits', 'sim': 0.27870157},\n",
       " {'word': 'folks', 'sim': 0.27866796},\n",
       " {'word': 'cabinet', 'sim': 0.27852887},\n",
       " {'word': 'skepticism', 'sim': 0.2784329},\n",
       " {'word': 's', 'sim': 0.27839628},\n",
       " {'word': 'fox', 'sim': 0.27814096},\n",
       " {'word': 'soon', 'sim': 0.2780628},\n",
       " {'word': 'then-senator', 'sim': 0.27801785},\n",
       " {'word': 'better', 'sim': 0.27797222},\n",
       " {'word': 'anticipated', 'sim': 0.27796614},\n",
       " {'word': 'contest', 'sim': 0.27786583},\n",
       " {'word': 'barroso', 'sim': 0.2777781},\n",
       " {'word': 'where', 'sim': 0.27776077},\n",
       " {'word': '2007', 'sim': 0.2777457},\n",
       " {'word': 'remind', 'sim': 0.2776911},\n",
       " {'word': 'welcoming', 'sim': 0.27768072},\n",
       " {'word': 'helped', 'sim': 0.27756608},\n",
       " {'word': 'specific', 'sim': 0.27756232},\n",
       " {'word': 'quick', 'sim': 0.2775271},\n",
       " {'word': 'cheering', 'sim': 0.27752522},\n",
       " {'word': 'vilsack', 'sim': 0.277375},\n",
       " {'word': 'supports', 'sim': 0.2773667},\n",
       " {'word': 'moreover', 'sim': 0.2771527},\n",
       " {'word': 'work', 'sim': 0.27703714},\n",
       " {'word': 'blueprint', 'sim': 0.27701524},\n",
       " {'word': 'palestinians', 'sim': 0.27696726},\n",
       " {'word': 'challenging', 'sim': 0.27682742},\n",
       " {'word': 'carolina', 'sim': 0.2768102},\n",
       " {'word': 'consider', 'sim': 0.2767075},\n",
       " {'word': 'understand', 'sim': 0.27667826},\n",
       " {'word': 'ban', 'sim': 0.2766779},\n",
       " {'word': 'continue', 'sim': 0.27661},\n",
       " {'word': 'taken', 'sim': 0.27660695},\n",
       " {'word': 'advocates', 'sim': 0.27657324},\n",
       " {'word': 'foes', 'sim': 0.2764713},\n",
       " {'word': 'yushchenko', 'sim': 0.27646053},\n",
       " {'word': 'maybe', 'sim': 0.27627838},\n",
       " {'word': 'see', 'sim': 0.2761692},\n",
       " {'word': 'year', 'sim': 0.27604827},\n",
       " {'word': 'certain', 'sim': 0.2760431},\n",
       " {'word': 'profile', 'sim': 0.27597606},\n",
       " {'word': 'all', 'sim': 0.27594277},\n",
       " {'word': 'wo', 'sim': 0.27576637},\n",
       " {'word': 'blunt', 'sim': 0.27576563},\n",
       " {'word': 'china', 'sim': 0.2757256},\n",
       " {'word': 'consistently', 'sim': 0.27571937},\n",
       " {'word': 'mean', 'sim': 0.27553773},\n",
       " {'word': 'initially', 'sim': 0.27541283},\n",
       " {'word': 'good', 'sim': 0.27540338},\n",
       " {'word': 'been', 'sim': 0.27536407},\n",
       " {'word': 'sides', 'sim': 0.27531648},\n",
       " {'word': 'example', 'sim': 0.27522117},\n",
       " {'word': 'hispanic', 'sim': 0.27520323},\n",
       " {'word': 'often', 'sim': 0.2751567},\n",
       " {'word': 'running', 'sim': 0.27512378},\n",
       " {'word': 'worry', 'sim': 0.27509215},\n",
       " {'word': 'mcclellan', 'sim': 0.27501866},\n",
       " {'word': 'me', 'sim': 0.27496135},\n",
       " {'word': 'either', 'sim': 0.27491084},\n",
       " {'word': 'hinted', 'sim': 0.27485806},\n",
       " {'word': 'begin', 'sim': 0.27476236},\n",
       " {'word': 'stands', 'sim': 0.27473348},\n",
       " {'word': 'addresses', 'sim': 0.27461967},\n",
       " {'word': 'topic', 'sim': 0.2744472},\n",
       " {'word': 'scheduled', 'sim': 0.27442375},\n",
       " {'word': 'indication', 'sim': 0.27439335},\n",
       " {'word': 'hastert', 'sim': 0.27436084},\n",
       " {'word': 'particular', 'sim': 0.27428126},\n",
       " {'word': 'approved', 'sim': 0.27416837},\n",
       " {'word': 'concern', 'sim': 0.27415767},\n",
       " {'word': 'envoy', 'sim': 0.27406782},\n",
       " {'word': 'swift', 'sim': 0.27401727},\n",
       " {'word': 'alone', 'sim': 0.27398703},\n",
       " {'word': 'determined', 'sim': 0.27396747},\n",
       " {'word': 'diplomatic', 'sim': 0.27390298},\n",
       " {'word': 'touting', 'sim': 0.2738622},\n",
       " {'word': 'decisions', 'sim': 0.27375638},\n",
       " {'word': 'can', 'sim': 0.27374062},\n",
       " {'word': 'asserting', 'sim': 0.27368435},\n",
       " {'word': 'cornyn', 'sim': 0.2735157},\n",
       " {'word': 'anyway', 'sim': 0.2734707},\n",
       " {'word': 'ill.', 'sim': 0.27345312},\n",
       " {'word': 'drew', 'sim': 0.27341428},\n",
       " {'word': 'past', 'sim': 0.27332023},\n",
       " {'word': 'chosen', 'sim': 0.27319366},\n",
       " {'word': 'annan', 'sim': 0.27319142},\n",
       " {'word': 'pointedly', 'sim': 0.27298766},\n",
       " {'word': 'incoming', 'sim': 0.2729751},\n",
       " {'word': ',', 'sim': 0.27296537},\n",
       " {'word': 'accept', 'sim': 0.27293107},\n",
       " {'word': 'stops', 'sim': 0.27290365},\n",
       " {'word': 'advantage', 'sim': 0.2728874},\n",
       " {'word': 'military', 'sim': 0.27282208},\n",
       " {'word': 'request', 'sim': 0.27275118},\n",
       " {'word': 'treasury', 'sim': 0.27269727},\n",
       " {'word': 'gone', 'sim': 0.27261776},\n",
       " {'word': 'letter', 'sim': 0.27260184},\n",
       " {'word': 'ohio', 'sim': 0.27253306},\n",
       " {'word': 'facebook', 'sim': 0.2724823},\n",
       " {'word': 'evident', 'sim': 0.27236092},\n",
       " {'word': 'appear', 'sim': 0.2722876},\n",
       " {'word': 'respondents', 'sim': 0.2721645},\n",
       " {'word': 'i', 'sim': 0.2721286},\n",
       " {'word': 'looked', 'sim': 0.27210417},\n",
       " {'word': 'massachusetts', 'sim': 0.27209163},\n",
       " {'word': 'apparently', 'sim': 0.27206612},\n",
       " {'word': 'reconciliation', 'sim': 0.27205458},\n",
       " {'word': 'arguments', 'sim': 0.27204934},\n",
       " ...]"
      ]
     },
     "execution_count": 15,
     "metadata": {},
     "output_type": "execute_result"
    }
   ],
   "source": [
    "sorted(similarities, key=lambda f: f[\"sim\"], reverse=True)"
   ]
  },
  {
   "cell_type": "code",
   "execution_count": 16,
   "metadata": {
    "executionInfo": {
     "elapsed": 434,
     "status": "ok",
     "timestamp": 1684194756363,
     "user": {
      "displayName": "Juan Manuel Pérez",
      "userId": "15517185988154421703"
     },
     "user_tz": 180
    },
    "id": "b-LKcogOmK65"
   },
   "outputs": [],
   "source": [
    "def most_similar(word, top=10):\n",
    "    \"\"\"\n",
    "    TODO: completar\n",
    "    \"\"\"\n",
    "\n",
    "    similarities = []\n",
    "\n",
    "    word_vector = model.get_vector(word)\n",
    "\n",
    "    for other_word in model.key_to_index.keys():\n",
    "        if other_word == word:\n",
    "            continue\n",
    "        other_word_vector = model.get_vector(other_word)\n",
    "        similarity = cossim(word_vector, other_word_vector)\n",
    "        similarities.append({\n",
    "            \"word\": other_word,\n",
    "            \"sim\": similarity,\n",
    "        })\n",
    "\n",
    "    \n",
    "    sorted_words = sorted(similarities, key=lambda fila: fila[\"sim\"], reverse=True)\n",
    "\n",
    "    return sorted_words[:top]"
   ]
  },
  {
   "cell_type": "code",
   "execution_count": 17,
   "metadata": {
    "colab": {
     "base_uri": "https://localhost:8080/"
    },
    "executionInfo": {
     "elapsed": 8092,
     "status": "ok",
     "timestamp": 1684194767092,
     "user": {
      "displayName": "Juan Manuel Pérez",
      "userId": "15517185988154421703"
     },
     "user_tz": 180
    },
    "id": "gwt05VeWmK65",
    "outputId": "39d13fc2-9569-4c64-b230-c3d166aee304"
   },
   "outputs": [
    {
     "data": {
      "text/plain": [
       "[{'word': 'ivana', 'sim': 0.4999053},\n",
       " {'word': 'melania', 'sim': 0.456515},\n",
       " {'word': 'casino', 'sim': 0.45222753},\n",
       " {'word': 'nows', 'sim': 0.44631347},\n",
       " {'word': 'knauss', 'sim': 0.43607485},\n",
       " {'word': 'hilton', 'sim': 0.42345145},\n",
       " {'word': 'trumps', 'sim': 0.41433755},\n",
       " {'word': 'ivanka', 'sim': 0.40609348},\n",
       " {'word': 'resorts', 'sim': 0.39928275},\n",
       " {'word': 'wynn', 'sim': 0.3902422}]"
      ]
     },
     "execution_count": 17,
     "metadata": {},
     "output_type": "execute_result"
    }
   ],
   "source": [
    "most_similar(\"trump\")"
   ]
  },
  {
   "cell_type": "code",
   "execution_count": 18,
   "metadata": {
    "colab": {
     "base_uri": "https://localhost:8080/"
    },
    "executionInfo": {
     "elapsed": 6474,
     "status": "ok",
     "timestamp": 1684194778640,
     "user": {
      "displayName": "Juan Manuel Pérez",
      "userId": "15517185988154421703"
     },
     "user_tz": 180
    },
    "id": "tCWfEnbsmK66",
    "outputId": "a3ca1e18-cedd-4eb8-a1f3-5fca16fd7050"
   },
   "outputs": [
    {
     "data": {
      "text/plain": [
       "[{'word': \"eto'o\", 'sim': 0.7322823},\n",
       " {'word': 'ronaldinho', 'sim': 0.7160847},\n",
       " {'word': 'iniesta', 'sim': 0.6984628},\n",
       " {'word': 'ronaldo', 'sim': 0.6775637},\n",
       " {'word': 'xavi', 'sim': 0.6665406},\n",
       " {'word': 'tevez', 'sim': 0.63291955},\n",
       " {'word': 'barca', 'sim': 0.6194374},\n",
       " {'word': 'ibrahimovic', 'sim': 0.6173138},\n",
       " {'word': 'saviola', 'sim': 0.60916907},\n",
       " {'word': 'riquelme', 'sim': 0.5935913}]"
      ]
     },
     "execution_count": 18,
     "metadata": {},
     "output_type": "execute_result"
    }
   ],
   "source": [
    "most_similar(\"messi\")"
   ]
  },
  {
   "cell_type": "code",
   "execution_count": 19,
   "metadata": {
    "colab": {
     "base_uri": "https://localhost:8080/"
    },
    "executionInfo": {
     "elapsed": 7635,
     "status": "ok",
     "timestamp": 1684194796066,
     "user": {
      "displayName": "Juan Manuel Pérez",
      "userId": "15517185988154421703"
     },
     "user_tz": 180
    },
    "id": "rXj6-QQRmK66",
    "outputId": "a5fe375d-6f62-444f-e60f-a17a67885450"
   },
   "outputs": [
    {
     "data": {
      "text/plain": [
       "[{'word': 'german', 'sim': 0.74909145},\n",
       " {'word': 'austria', 'sim': 0.66274256},\n",
       " {'word': 'berlin', 'sim': 0.64560443},\n",
       " {'word': 'europe', 'sim': 0.5969494},\n",
       " {'word': 'munich', 'sim': 0.58591354},\n",
       " {'word': 'poland', 'sim': 0.5792826},\n",
       " {'word': 'switzerland', 'sim': 0.57723916},\n",
       " {'word': 'germans', 'sim': 0.5746946},\n",
       " {'word': 'denmark', 'sim': 0.55928576},\n",
       " {'word': 'france', 'sim': 0.55673975}]"
      ]
     },
     "execution_count": 19,
     "metadata": {},
     "output_type": "execute_result"
    }
   ],
   "source": [
    "most_similar('germany')"
   ]
  },
  {
   "cell_type": "code",
   "execution_count": 20,
   "metadata": {
    "colab": {
     "base_uri": "https://localhost:8080/"
    },
    "executionInfo": {
     "elapsed": 799,
     "status": "ok",
     "timestamp": 1684194805039,
     "user": {
      "displayName": "Juan Manuel Pérez",
      "userId": "15517185988154421703"
     },
     "user_tz": 180
    },
    "id": "DiLuPZmRPHvv",
    "outputId": "1a6ccf8c-ac71-4c1d-b6f2-0dd7a2012fbe"
   },
   "outputs": [
    {
     "data": {
      "text/plain": [
       "[('argentine', 0.6973999738693237),\n",
       " ('uruguay', 0.6948851943016052),\n",
       " ('brazil', 0.672882080078125),\n",
       " ('chile', 0.6578306555747986),\n",
       " ('paraguay', 0.6330372095108032),\n",
       " ('buenos', 0.6062374711036682),\n",
       " ('ecuador', 0.5989265441894531),\n",
       " ('spain', 0.5970550775527954),\n",
       " ('aires', 0.5959052443504333),\n",
       " ('peru', 0.5835303068161011)]"
      ]
     },
     "execution_count": 20,
     "metadata": {},
     "output_type": "execute_result"
    }
   ],
   "source": [
    "model.most_similar(\"argentina\")"
   ]
  },
  {
   "cell_type": "code",
   "execution_count": 21,
   "metadata": {
    "colab": {
     "base_uri": "https://localhost:8080/"
    },
    "executionInfo": {
     "elapsed": 816,
     "status": "ok",
     "timestamp": 1684194818662,
     "user": {
      "displayName": "Juan Manuel Pérez",
      "userId": "15517185988154421703"
     },
     "user_tz": 180
    },
    "id": "KRsw800e1VUr",
    "outputId": "2e825f45-2643-43cf-dc0e-cdd4d57a23ff"
   },
   "outputs": [
    {
     "data": {
      "text/plain": [
       "[('cristina', 0.6217897534370422),\n",
       " ('néstor', 0.6090612411499023),\n",
       " ('nestor', 0.5978811383247375),\n",
       " ('duhalde', 0.5715010166168213),\n",
       " ('menem', 0.5673118233680725),\n",
       " ('lula', 0.5261633992195129),\n",
       " ('inacio', 0.5019150972366333),\n",
       " ('peronist', 0.48612818121910095),\n",
       " ('fernandez', 0.4857368469238281),\n",
       " ('cardoso', 0.46038442850112915)]"
      ]
     },
     "execution_count": 21,
     "metadata": {},
     "output_type": "execute_result"
    }
   ],
   "source": [
    "model.most_similar(\"kirchner\")"
   ]
  },
  {
   "cell_type": "markdown",
   "metadata": {
    "id": "kErxTCe7mK66"
   },
   "source": [
    "## Analogías\n",
    "\n",
    "Programar la función de analogías, que intenta \n",
    "\n",
    "Chequear en algunos ejemplos: \"man is to king, as woman is to ...\"\n"
   ]
  },
  {
   "cell_type": "code",
   "execution_count": 23,
   "metadata": {
    "executionInfo": {
     "elapsed": 6502,
     "status": "ok",
     "timestamp": 1684194873483,
     "user": {
      "displayName": "Juan Manuel Pérez",
      "userId": "15517185988154421703"
     },
     "user_tz": 180
    },
    "id": "3Sh1or0TWqYk"
   },
   "outputs": [],
   "source": [
    "x1 = \"japan\"\n",
    "x2 = \"japanese\"\n",
    "y1 = \"australia\"\n",
    "\n",
    "vector_x1 = model.get_vector(x1)\n",
    "vector_x2 = model.get_vector(x2)\n",
    "vector_y1 = model.get_vector(y1)\n",
    "\n",
    "word_vector = vector_y1 + (vector_x2 - vector_x1)\n",
    "\n",
    "similarities = []\n",
    "\n",
    "\n",
    "for other_word in model.key_to_index.keys():\n",
    "    if other_word == word:\n",
    "        continue\n",
    "    other_word_vector = model.get_vector(other_word)\n",
    "    similarity = cossim(word_vector, other_word_vector)\n",
    "    similarities.append({\n",
    "        \"word\": other_word,\n",
    "        \"sim\": similarity,\n",
    "    })\n",
    "\n",
    "\n",
    "sorted_words = sorted(similarities, key=lambda fila: fila[\"sim\"], reverse=True)\n",
    "\n"
   ]
  },
  {
   "cell_type": "code",
   "execution_count": 24,
   "metadata": {
    "colab": {
     "base_uri": "https://localhost:8080/"
    },
    "executionInfo": {
     "elapsed": 416,
     "status": "ok",
     "timestamp": 1684194876965,
     "user": {
      "displayName": "Juan Manuel Pérez",
      "userId": "15517185988154421703"
     },
     "user_tz": 180
    },
    "id": "x1y-d8xhXTef",
    "outputId": "6a63e2ad-d7a3-4768-d4f5-2f15129ae988"
   },
   "outputs": [
    {
     "data": {
      "text/plain": [
       "[{'word': 'australian', 'sim': 0.8366031},\n",
       " {'word': 'australia', 'sim': 0.73174477},\n",
       " {'word': 'zealand', 'sim': 0.62023604},\n",
       " {'word': 'australians', 'sim': 0.61165917},\n",
       " {'word': 'sydney', 'sim': 0.55376446},\n",
       " {'word': 'british', 'sim': 0.52171695},\n",
       " {'word': 'queensland', 'sim': 0.5181975},\n",
       " {'word': 'melbourne', 'sim': 0.5093637},\n",
       " {'word': 'aussie', 'sim': 0.4946799},\n",
       " {'word': 'canberra', 'sim': 0.47958785}]"
      ]
     },
     "execution_count": 24,
     "metadata": {},
     "output_type": "execute_result"
    }
   ],
   "source": [
    "sorted_words[:10]"
   ]
  },
  {
   "cell_type": "code",
   "execution_count": null,
   "metadata": {
    "id": "QBnPE99amK67"
   },
   "outputs": [],
   "source": [
    "def analogy(x1, x2, y1):\n",
    "    \"\"\"\n",
    "    Todo: si x1 es a x2, buscar y2 el análogo de y1\n",
    "\n",
    "    v(y1) + (v(x2) - v(x1))\n",
    "    \"\"\"\n",
    "        \n",
    "    vector_x1 = model.get_vector(x1)\n",
    "    vector_x2 = model.get_vector(x2)\n",
    "    vector_y1 = model.get_vector(y1)\n",
    "\n",
    "    # TODO: Completar\n",
    "    "
   ]
  },
  {
   "cell_type": "code",
   "execution_count": null,
   "metadata": {
    "id": "Hcxu_aMKmK67"
   },
   "outputs": [],
   "source": [
    "analogy('japan', 'japanese', 'australia')"
   ]
  },
  {
   "cell_type": "code",
   "execution_count": null,
   "metadata": {
    "id": "Kbq2OAlMmK67"
   },
   "outputs": [],
   "source": [
    "analogy('australia', 'beer', 'france')"
   ]
  },
  {
   "cell_type": "code",
   "execution_count": null,
   "metadata": {
    "id": "Vzq8FFVrmK68"
   },
   "outputs": [],
   "source": [
    "analogy('obama', 'clinton', 'reagan')"
   ]
  },
  {
   "cell_type": "code",
   "execution_count": null,
   "metadata": {
    "id": "fIZO-3OnmK68"
   },
   "outputs": [],
   "source": [
    "analogy('tall', 'tallest', 'long')"
   ]
  },
  {
   "cell_type": "code",
   "execution_count": null,
   "metadata": {
    "id": "wjokjD2umK69"
   },
   "outputs": [],
   "source": [
    "analogy('good', 'fantastic', 'bad')"
   ]
  },
  {
   "cell_type": "code",
   "execution_count": null,
   "metadata": {
    "id": "QLxqn1_cmK69"
   },
   "outputs": [],
   "source": [
    "analogy(\"man\", \"doctor\", \"woman\")"
   ]
  },
  {
   "cell_type": "code",
   "execution_count": 25,
   "metadata": {
    "executionInfo": {
     "elapsed": 5,
     "status": "ok",
     "timestamp": 1684194927467,
     "user": {
      "displayName": "Juan Manuel Pérez",
      "userId": "15517185988154421703"
     },
     "user_tz": 180
    },
    "id": "LPvhxpaomK69"
   },
   "outputs": [],
   "source": [
    "import matplotlib.pyplot as plt\n",
    "from sklearn.decomposition import PCA \n",
    "\n",
    "def display_pca_scatterplot(model, words=None, sample=0, figsize=(10, 10)):\n",
    "    if words == None:\n",
    "        if sample > 0:\n",
    "            words = np.random.choice(list(model.wv.index2word), sample)\n",
    "        else:\n",
    "            words = [ word for word in model.vocab ]\n",
    "        \n",
    "    word_vectors = np.array([model[w] for w in words])\n",
    "\n",
    "    twodim = PCA().fit_transform(word_vectors)[:,:2]\n",
    "    \n",
    "    plt.figure(figsize=figsize)\n",
    "    plt.scatter(twodim[:,0], twodim[:,1], edgecolors='k', c='r')\n",
    "    for word, (x,y) in zip(words, twodim):\n",
    "        plt.text(x+0.05, y+0.05, word)"
   ]
  },
  {
   "cell_type": "code",
   "execution_count": 26,
   "metadata": {
    "colab": {
     "base_uri": "https://localhost:8080/",
     "height": 806
    },
    "executionInfo": {
     "elapsed": 1547,
     "status": "ok",
     "timestamp": 1684194933245,
     "user": {
      "displayName": "Juan Manuel Pérez",
      "userId": "15517185988154421703"
     },
     "user_tz": 180
    },
    "id": "hczlkZI5mK6-",
    "outputId": "8226a0cc-d140-4d90-eb81-ad947f3c8a21"
   },
   "outputs": [
    {
     "data": {
      "image/png": "[encoded data removed]",
      "text/plain": [
       "<Figure size 1000x1000 with 1 Axes>"
      ]
     },
     "metadata": {},
     "output_type": "display_data"
    }
   ],
   "source": [
    "display_pca_scatterplot(model, \n",
    "                        ['coffee', 'tea', 'beer', 'wine', 'brandy', 'rum', 'champagne', 'water',\n",
    "                         'spaghetti', 'borscht', 'hamburger', 'pizza', 'falafel', 'sushi', 'meatballs',\n",
    "                         'dog', 'horse', 'cat', 'monkey', 'parrot', 'koala', 'lizard',\n",
    "                         'frog', 'toad', 'monkey', 'ape', 'kangaroo', 'wombat', 'wolf',\n",
    "                         'france', 'germany', 'hungary', 'luxembourg', 'australia', 'fiji', 'china',\n",
    "                         'homework', 'assignment', 'problem', 'exam', 'test', 'class',\n",
    "                         'school', 'college', 'university', 'institute'])"
   ]
  },
  {
   "cell_type": "code",
   "execution_count": 27,
   "metadata": {
    "colab": {
     "base_uri": "https://localhost:8080/",
     "height": 288
    },
    "executionInfo": {
     "elapsed": 73,
     "status": "error",
     "timestamp": 1684194933249,
     "user": {
      "displayName": "Juan Manuel Pérez",
      "userId": "15517185988154421703"
     },
     "user_tz": 180
    },
    "id": "ImrXU8qOmK6-",
    "outputId": "085825b9-aa7c-40c2-c15f-0b67f71e15d2"
   },
   "outputs": [
    {
     "ename": "AttributeError",
     "evalue": "ignored",
     "output_type": "error",
     "traceback": [
      "\u001b[0;31m---------------------------------------------------------------------------\u001b[0m",
      "\u001b[0;31mAttributeError\u001b[0m                            Traceback (most recent call last)",
      "\u001b[0;32m<ipython-input-27-bd2b3d7f35d3>\u001b[0m in \u001b[0;36m<cell line: 1>\u001b[0;34m()\u001b[0m\n\u001b[0;32m----> 1\u001b[0;31m \u001b[0mdisplay_pca_scatterplot\u001b[0m\u001b[0;34m(\u001b[0m\u001b[0mmodel\u001b[0m\u001b[0;34m,\u001b[0m \u001b[0msample\u001b[0m\u001b[0;34m=\u001b[0m\u001b[0;36m300\u001b[0m\u001b[0;34m,\u001b[0m \u001b[0mfigsize\u001b[0m\u001b[0;34m=\u001b[0m\u001b[0;34m(\u001b[0m\u001b[0;36m20\u001b[0m\u001b[0;34m,\u001b[0m \u001b[0;36m20\u001b[0m\u001b[0;34m)\u001b[0m\u001b[0;34m)\u001b[0m\u001b[0;34m\u001b[0m\u001b[0;34m\u001b[0m\u001b[0m\n\u001b[0m",
      "\u001b[0;32m<ipython-input-25-e1478e8c20b0>\u001b[0m in \u001b[0;36mdisplay_pca_scatterplot\u001b[0;34m(model, words, sample, figsize)\u001b[0m\n\u001b[1;32m      5\u001b[0m     \u001b[0;32mif\u001b[0m \u001b[0mwords\u001b[0m \u001b[0;34m==\u001b[0m \u001b[0;32mNone\u001b[0m\u001b[0;34m:\u001b[0m\u001b[0;34m\u001b[0m\u001b[0;34m\u001b[0m\u001b[0m\n\u001b[1;32m      6\u001b[0m         \u001b[0;32mif\u001b[0m \u001b[0msample\u001b[0m \u001b[0;34m>\u001b[0m \u001b[0;36m0\u001b[0m\u001b[0;34m:\u001b[0m\u001b[0;34m\u001b[0m\u001b[0;34m\u001b[0m\u001b[0m\n\u001b[0;32m----> 7\u001b[0;31m             \u001b[0mwords\u001b[0m \u001b[0;34m=\u001b[0m \u001b[0mnp\u001b[0m\u001b[0;34m.\u001b[0m\u001b[0mrandom\u001b[0m\u001b[0;34m.\u001b[0m\u001b[0mchoice\u001b[0m\u001b[0;34m(\u001b[0m\u001b[0mlist\u001b[0m\u001b[0;34m(\u001b[0m\u001b[0mmodel\u001b[0m\u001b[0;34m.\u001b[0m\u001b[0mwv\u001b[0m\u001b[0;34m.\u001b[0m\u001b[0mindex2word\u001b[0m\u001b[0;34m)\u001b[0m\u001b[0;34m,\u001b[0m \u001b[0msample\u001b[0m\u001b[0;34m)\u001b[0m\u001b[0;34m\u001b[0m\u001b[0;34m\u001b[0m\u001b[0m\n\u001b[0m\u001b[1;32m      8\u001b[0m         \u001b[0;32melse\u001b[0m\u001b[0;34m:\u001b[0m\u001b[0;34m\u001b[0m\u001b[0;34m\u001b[0m\u001b[0m\n\u001b[1;32m      9\u001b[0m             \u001b[0mwords\u001b[0m \u001b[0;34m=\u001b[0m \u001b[0;34m[\u001b[0m \u001b[0mword\u001b[0m \u001b[0;32mfor\u001b[0m \u001b[0mword\u001b[0m \u001b[0;32min\u001b[0m \u001b[0mmodel\u001b[0m\u001b[0;34m.\u001b[0m\u001b[0mvocab\u001b[0m \u001b[0;34m]\u001b[0m\u001b[0;34m\u001b[0m\u001b[0;34m\u001b[0m\u001b[0m\n",
      "\u001b[0;31mAttributeError\u001b[0m: 'KeyedVectors' object has no attribute 'wv'"
     ]
    }
   ],
   "source": [
    "display_pca_scatterplot(model, sample=300, figsize=(20, 20))"
   ]
  },
  {
   "cell_type": "code",
   "execution_count": null,
   "metadata": {
    "id": "DdKKSmCIaLRb"
   },
   "outputs": [],
   "source": [
    "model.get_vector(\"jabberwockyy\")"
   ]
  },
  {
   "cell_type": "markdown",
   "metadata": {
    "id": "yRWVIhr17awU"
   },
   "source": [
    "## Ejercicio\n",
    "\n",
    "Probar esto mismo pero con el modelo de `fasttext`. Chequear estar cargando el `bin` (si no se puede con gensim, probar instalando el paquete `fasttext`)"
   ]
  }
 ],
 "metadata": {
  "colab": {
   "provenance": []
  },
  "interpreter": {
   "hash": "3386c84ec0532bab34ae70cc8f30d327d47697366efd1f0b040a1804279813d8"
  },
  "kernelspec": {
   "display_name": "Python 3.8.12 ('venv': venv)",
   "language": "python",
   "name": "python3"
  },
  "language_info": {
   "codemirror_mode": {
    "name": "ipython",
    "version": 3
   },
   "file_extension": ".py",
   "mimetype": "text/x-python",
   "name": "python",
   "nbconvert_exporter": "python",
   "pygments_lexer": "ipython3",
   "version": "3.8.12"
  }
 },
 "nbformat": 4,
 "nbformat_minor": 0
}
