{
  "nbformat": 4,
  "nbformat_minor": 0,
  "metadata": {
    "colab": {
      "provenance": [],
      "authorship_tag": "ABX9TyMPH63I46PJ0f92nKwpgpJM",
      "include_colab_link": true
    },
    "kernelspec": {
      "name": "python3",
      "display_name": "Python 3"
    },
    "language_info": {
      "name": "python"
    }
  },
  "cells": [
    {
      "cell_type": "markdown",
      "metadata": {
        "id": "view-in-github",
        "colab_type": "text"
      },
      "source": [
        "<a href=\"https://colab.research.google.com/github/natdebandi/text_mining_unrn/blob/main/topic_modelling_ejercicio.ipynb\" target=\"_parent\"><img src=\"https://colab.research.google.com/assets/colab-badge.svg\" alt=\"Open In Colab\"/></a>"
      ]
    },
    {
      "cell_type": "markdown",
      "source": [
        "#TEXT MINING\n",
        "\n",
        "UNRN\n",
        "\n",
        "Especialización en ciencias de datos aplicada\n",
        "\n",
        "Natalia Debandi\n",
        "\n",
        "ndebandi@unrn.edu.ar\n",
        "\n",
        "**CLASE 4**\n",
        "\n",
        "Aprendizaje no supervisado - Topic modelling\n",
        "\n",
        "Ejercicio"
      ],
      "metadata": {
        "id": "7ogNNke_F_ph"
      }
    },
    {
      "cell_type": "code",
      "source": [
        "!pip install gensim\n",
        "#Si les llega a falla la siguiente linea ejecuten esto y reinicien la sesion. A veces falla"
      ],
      "metadata": {
        "colab": {
          "base_uri": "https://localhost:8080/"
        },
        "id": "TAYFMmHlGwO2",
        "outputId": "fb204591-a95c-4582-f26f-82b76e41153b"
      },
      "execution_count": 2,
      "outputs": [
        {
          "output_type": "stream",
          "name": "stdout",
          "text": [
            "Collecting gensim\n",
            "  Downloading gensim-4.3.3-cp311-cp311-manylinux_2_17_x86_64.manylinux2014_x86_64.whl.metadata (8.1 kB)\n",
            "Collecting numpy<2.0,>=1.18.5 (from gensim)\n",
            "  Downloading numpy-1.26.4-cp311-cp311-manylinux_2_17_x86_64.manylinux2014_x86_64.whl.metadata (61 kB)\n",
            "\u001b[2K     \u001b[90m━━━━━━━━━━━━━━━━━━━━━━━━━━━━━━━━━━━━━━━━\u001b[0m \u001b[32m61.0/61.0 kB\u001b[0m \u001b[31m2.4 MB/s\u001b[0m eta \u001b[36m0:00:00\u001b[0m\n",
            "\u001b[?25hCollecting scipy<1.14.0,>=1.7.0 (from gensim)\n",
            "  Downloading scipy-1.13.1-cp311-cp311-manylinux_2_17_x86_64.manylinux2014_x86_64.whl.metadata (60 kB)\n",
            "\u001b[2K     \u001b[90m━━━━━━━━━━━━━━━━━━━━━━━━━━━━━━━━━━━━━━━━\u001b[0m \u001b[32m60.6/60.6 kB\u001b[0m \u001b[31m2.7 MB/s\u001b[0m eta \u001b[36m0:00:00\u001b[0m\n",
            "\u001b[?25hRequirement already satisfied: smart-open>=1.8.1 in /usr/local/lib/python3.11/dist-packages (from gensim) (7.1.0)\n",
            "Requirement already satisfied: wrapt in /usr/local/lib/python3.11/dist-packages (from smart-open>=1.8.1->gensim) (1.17.2)\n",
            "Downloading gensim-4.3.3-cp311-cp311-manylinux_2_17_x86_64.manylinux2014_x86_64.whl (26.7 MB)\n",
            "\u001b[2K   \u001b[90m━━━━━━━━━━━━━━━━━━━━━━━━━━━━━━━━━━━━━━━━\u001b[0m \u001b[32m26.7/26.7 MB\u001b[0m \u001b[31m17.5 MB/s\u001b[0m eta \u001b[36m0:00:00\u001b[0m\n",
            "\u001b[?25hDownloading numpy-1.26.4-cp311-cp311-manylinux_2_17_x86_64.manylinux2014_x86_64.whl (18.3 MB)\n",
            "\u001b[2K   \u001b[90m━━━━━━━━━━━━━━━━━━━━━━━━━━━━━━━━━━━━━━━━\u001b[0m \u001b[32m18.3/18.3 MB\u001b[0m \u001b[31m24.4 MB/s\u001b[0m eta \u001b[36m0:00:00\u001b[0m\n",
            "\u001b[?25hDownloading scipy-1.13.1-cp311-cp311-manylinux_2_17_x86_64.manylinux2014_x86_64.whl (38.6 MB)\n",
            "\u001b[2K   \u001b[90m━━━━━━━━━━━━━━━━━━━━━━━━━━━━━━━━━━━━━━━━\u001b[0m \u001b[32m38.6/38.6 MB\u001b[0m \u001b[31m5.3 MB/s\u001b[0m eta \u001b[36m0:00:00\u001b[0m\n",
            "\u001b[?25hInstalling collected packages: numpy, scipy, gensim\n",
            "  Attempting uninstall: numpy\n",
            "    Found existing installation: numpy 2.0.2\n",
            "    Uninstalling numpy-2.0.2:\n",
            "      Successfully uninstalled numpy-2.0.2\n",
            "  Attempting uninstall: scipy\n",
            "    Found existing installation: scipy 1.14.1\n",
            "    Uninstalling scipy-1.14.1:\n",
            "      Successfully uninstalled scipy-1.14.1\n",
            "Successfully installed gensim-4.3.3 numpy-1.26.4 scipy-1.13.1\n"
          ]
        }
      ]
    },
    {
      "cell_type": "code",
      "source": [
        "!pip install feedparser beautifulsoup4 requests nltk gensim matplotlib wordcloud fake-useragent pyldavis"
      ],
      "metadata": {
        "colab": {
          "base_uri": "https://localhost:8080/"
        },
        "id": "yZQek3EtX3q_",
        "outputId": "906ee240-b54f-41bd-8081-def0bb1aa08c"
      },
      "execution_count": 14,
      "outputs": [
        {
          "output_type": "stream",
          "name": "stdout",
          "text": [
            "Requirement already satisfied: feedparser in /usr/local/lib/python3.11/dist-packages (6.0.11)\n",
            "Requirement already satisfied: beautifulsoup4 in /usr/local/lib/python3.11/dist-packages (4.13.3)\n",
            "Requirement already satisfied: requests in /usr/local/lib/python3.11/dist-packages (2.32.3)\n",
            "Requirement already satisfied: nltk in /usr/local/lib/python3.11/dist-packages (3.9.1)\n",
            "Requirement already satisfied: gensim in /usr/local/lib/python3.11/dist-packages (4.3.3)\n",
            "Requirement already satisfied: matplotlib in /usr/local/lib/python3.11/dist-packages (3.10.0)\n",
            "Requirement already satisfied: wordcloud in /usr/local/lib/python3.11/dist-packages (1.9.4)\n",
            "Collecting fake-useragent\n",
            "  Downloading fake_useragent-2.1.0-py3-none-any.whl.metadata (17 kB)\n",
            "Collecting pyldavis\n",
            "  Downloading pyLDAvis-3.4.1-py3-none-any.whl.metadata (4.2 kB)\n",
            "Requirement already satisfied: sgmllib3k in /usr/local/lib/python3.11/dist-packages (from feedparser) (1.0.0)\n",
            "Requirement already satisfied: soupsieve>1.2 in /usr/local/lib/python3.11/dist-packages (from beautifulsoup4) (2.6)\n",
            "Requirement already satisfied: typing-extensions>=4.0.0 in /usr/local/lib/python3.11/dist-packages (from beautifulsoup4) (4.13.0)\n",
            "Requirement already satisfied: charset-normalizer<4,>=2 in /usr/local/lib/python3.11/dist-packages (from requests) (3.4.1)\n",
            "Requirement already satisfied: idna<4,>=2.5 in /usr/local/lib/python3.11/dist-packages (from requests) (3.10)\n",
            "Requirement already satisfied: urllib3<3,>=1.21.1 in /usr/local/lib/python3.11/dist-packages (from requests) (2.3.0)\n",
            "Requirement already satisfied: certifi>=2017.4.17 in /usr/local/lib/python3.11/dist-packages (from requests) (2025.1.31)\n",
            "Requirement already satisfied: click in /usr/local/lib/python3.11/dist-packages (from nltk) (8.1.8)\n",
            "Requirement already satisfied: joblib in /usr/local/lib/python3.11/dist-packages (from nltk) (1.4.2)\n",
            "Requirement already satisfied: regex>=2021.8.3 in /usr/local/lib/python3.11/dist-packages (from nltk) (2024.11.6)\n",
            "Requirement already satisfied: tqdm in /usr/local/lib/python3.11/dist-packages (from nltk) (4.67.1)\n",
            "Requirement already satisfied: numpy<2.0,>=1.18.5 in /usr/local/lib/python3.11/dist-packages (from gensim) (1.26.4)\n",
            "Requirement already satisfied: scipy<1.14.0,>=1.7.0 in /usr/local/lib/python3.11/dist-packages (from gensim) (1.13.1)\n",
            "Requirement already satisfied: smart-open>=1.8.1 in /usr/local/lib/python3.11/dist-packages (from gensim) (7.1.0)\n",
            "Requirement already satisfied: contourpy>=1.0.1 in /usr/local/lib/python3.11/dist-packages (from matplotlib) (1.3.1)\n",
            "Requirement already satisfied: cycler>=0.10 in /usr/local/lib/python3.11/dist-packages (from matplotlib) (0.12.1)\n",
            "Requirement already satisfied: fonttools>=4.22.0 in /usr/local/lib/python3.11/dist-packages (from matplotlib) (4.56.0)\n",
            "Requirement already satisfied: kiwisolver>=1.3.1 in /usr/local/lib/python3.11/dist-packages (from matplotlib) (1.4.8)\n",
            "Requirement already satisfied: packaging>=20.0 in /usr/local/lib/python3.11/dist-packages (from matplotlib) (24.2)\n",
            "Requirement already satisfied: pillow>=8 in /usr/local/lib/python3.11/dist-packages (from matplotlib) (11.1.0)\n",
            "Requirement already satisfied: pyparsing>=2.3.1 in /usr/local/lib/python3.11/dist-packages (from matplotlib) (3.2.3)\n",
            "Requirement already satisfied: python-dateutil>=2.7 in /usr/local/lib/python3.11/dist-packages (from matplotlib) (2.8.2)\n",
            "Requirement already satisfied: pandas>=2.0.0 in /usr/local/lib/python3.11/dist-packages (from pyldavis) (2.2.2)\n",
            "Requirement already satisfied: jinja2 in /usr/local/lib/python3.11/dist-packages (from pyldavis) (3.1.6)\n",
            "Requirement already satisfied: numexpr in /usr/local/lib/python3.11/dist-packages (from pyldavis) (2.10.2)\n",
            "Collecting funcy (from pyldavis)\n",
            "  Downloading funcy-2.0-py2.py3-none-any.whl.metadata (5.9 kB)\n",
            "Requirement already satisfied: scikit-learn>=1.0.0 in /usr/local/lib/python3.11/dist-packages (from pyldavis) (1.6.1)\n",
            "Requirement already satisfied: setuptools in /usr/local/lib/python3.11/dist-packages (from pyldavis) (75.2.0)\n",
            "Requirement already satisfied: pytz>=2020.1 in /usr/local/lib/python3.11/dist-packages (from pandas>=2.0.0->pyldavis) (2025.2)\n",
            "Requirement already satisfied: tzdata>=2022.7 in /usr/local/lib/python3.11/dist-packages (from pandas>=2.0.0->pyldavis) (2025.2)\n",
            "Requirement already satisfied: six>=1.5 in /usr/local/lib/python3.11/dist-packages (from python-dateutil>=2.7->matplotlib) (1.17.0)\n",
            "Requirement already satisfied: threadpoolctl>=3.1.0 in /usr/local/lib/python3.11/dist-packages (from scikit-learn>=1.0.0->pyldavis) (3.6.0)\n",
            "Requirement already satisfied: wrapt in /usr/local/lib/python3.11/dist-packages (from smart-open>=1.8.1->gensim) (1.17.2)\n",
            "Requirement already satisfied: MarkupSafe>=2.0 in /usr/local/lib/python3.11/dist-packages (from jinja2->pyldavis) (3.0.2)\n",
            "Downloading fake_useragent-2.1.0-py3-none-any.whl (125 kB)\n",
            "\u001b[2K   \u001b[90m━━━━━━━━━━━━━━━━━━━━━━━━━━━━━━━━━━━━━━━━\u001b[0m \u001b[32m125.8/125.8 kB\u001b[0m \u001b[31m3.6 MB/s\u001b[0m eta \u001b[36m0:00:00\u001b[0m\n",
            "\u001b[?25hDownloading pyLDAvis-3.4.1-py3-none-any.whl (2.6 MB)\n",
            "\u001b[2K   \u001b[90m━━━━━━━━━━━━━━━━━━━━━━━━━━━━━━━━━━━━━━━━\u001b[0m \u001b[32m2.6/2.6 MB\u001b[0m \u001b[31m38.6 MB/s\u001b[0m eta \u001b[36m0:00:00\u001b[0m\n",
            "\u001b[?25hDownloading funcy-2.0-py2.py3-none-any.whl (30 kB)\n",
            "Installing collected packages: funcy, fake-useragent, pyldavis\n",
            "Successfully installed fake-useragent-2.1.0 funcy-2.0 pyldavis-3.4.1\n"
          ]
        }
      ]
    },
    {
      "cell_type": "code",
      "execution_count": 35,
      "metadata": {
        "colab": {
          "base_uri": "https://localhost:8080/"
        },
        "id": "VUyIAR1qF5XJ",
        "outputId": "e4c57f38-ca55-447e-ba39-7372b3fdd760"
      },
      "outputs": [
        {
          "output_type": "stream",
          "name": "stderr",
          "text": [
            "[nltk_data] Downloading package punkt to /root/nltk_data...\n",
            "[nltk_data]   Package punkt is already up-to-date!\n",
            "[nltk_data] Downloading package stopwords to /root/nltk_data...\n",
            "[nltk_data]   Package stopwords is already up-to-date!\n",
            "[nltk_data] Downloading package wordnet to /root/nltk_data...\n",
            "[nltk_data]   Package wordnet is already up-to-date!\n"
          ]
        },
        {
          "output_type": "execute_result",
          "data": {
            "text/plain": [
              "True"
            ]
          },
          "metadata": {},
          "execution_count": 35
        }
      ],
      "source": [
        "import pandas as pd\n",
        "import numpy as np\n",
        "import matplotlib.pyplot as plt\n",
        "from wordcloud import WordCloud\n",
        "import nltk\n",
        "from nltk.corpus import stopwords\n",
        "from nltk.stem import WordNetLemmatizer\n",
        "from nltk.tokenize import word_tokenize\n",
        "from gensim.models import LdaModel\n",
        "from gensim.corpora import Dictionary\n",
        "import feedparser\n",
        "from bs4 import BeautifulSoup\n",
        "import requests\n",
        "import re\n",
        "from fake_useragent import UserAgent\n",
        "import time\n",
        "import pyLDAvis\n",
        "import pyLDAvis.gensim_models as gensimvis\n",
        "\n",
        "# Configuración inicial\n",
        "nltk.download('punkt')\n",
        "nltk.download('stopwords')\n",
        "nltk.download('wordnet')"
      ]
    },
    {
      "cell_type": "markdown",
      "source": [
        "Voy a armar un dataset para hacer LDA a partir de google news"
      ],
      "metadata": {
        "id": "Sy0LXskdGOts"
      }
    },
    {
      "cell_type": "code",
      "source": [
        "def fetch_article_content(url, timeout=10):\n",
        "    \"\"\"Improved content extraction with better error handling\"\"\"\n",
        "    try:\n",
        "        headers = {'User-Agent': ua.random}\n",
        "        try:\n",
        "            response = requests.get(url, headers=headers, timeout=timeout)\n",
        "            response.raise_for_status()  # Raises exception for 4XX/5XX errors\n",
        "        except requests.exceptions.RequestException as e:\n",
        "            print(f\"Request failed for {url}: {e}\")\n",
        "            return None\n",
        "\n",
        "        soup = BeautifulSoup(response.text, 'html.parser')\n",
        "\n",
        "        # Try different strategies to get article content\n",
        "        strategies = [\n",
        "            lambda: soup.find('article'),\n",
        "            lambda: soup.find(class_=re.compile('article|content|body|post', re.I)),\n",
        "            lambda: soup.find(itemprop='articleBody'),\n",
        "            lambda: soup.find('main'),\n",
        "            lambda: soup.find('body')\n",
        "        ]\n",
        "\n",
        "        article_content = None\n",
        "        for strategy in strategies:\n",
        "            article_content = strategy()\n",
        "            if article_content:\n",
        "                break\n",
        "\n",
        "        if not article_content:\n",
        "            return None\n",
        "\n",
        "        # Clean up the content\n",
        "        for element in article_content(['script', 'style', 'iframe', 'nav', 'footer', 'aside', 'header']):\n",
        "            element.decompose()\n",
        "\n",
        "        text = ' '.join([p.get_text() for p in article_content.find_all(['p', 'h1', 'h2', 'h3'])])\n",
        "        text = re.sub(r'\\s+', ' ', text).strip()\n",
        "        return text[:10000] if text else None\n",
        "\n",
        "    except Exception as e:\n",
        "       # print(f\"Error processing {url}: {e}\")\n",
        "        return None\n"
      ],
      "metadata": {
        "id": "zR7q_ugIfSL_"
      },
      "execution_count": 56,
      "outputs": []
    },
    {
      "cell_type": "code",
      "source": [
        "def extraer_noticias_completas(query=\"Argentine\", num_noticias=15):\n",
        "    \"\"\"More reliable news extraction function\"\"\"\n",
        "    #base_url = f\"https://news.google.com/rss/search?q={query.replace(' ', '+')}&hl=en-419&gl=AR&ceid=US:es-419\"\n",
        "    base_url = f\"https://news.google.com/rss/search?q={query.replace(' ', '+')}&hl=es-419&gl=AR&ceid=AR:es-419\"\n",
        "\n",
        "    try:\n",
        "        feed = feedparser.parse(base_url)\n",
        "        if not feed.entries:\n",
        "            print(\"No news entries found in the RSS feed\")\n",
        "            return pd.DataFrame()\n",
        "\n",
        "        noticias = []\n",
        "        for i, entry in enumerate(feed.entries[:num_noticias]):\n",
        "            #print(f\"Processing {i+1}/{min(len(feed.entries), num_noticias)}: {entry.title[:50]}...\")\n",
        "\n",
        "            content = None\n",
        "            if hasattr(entry, 'link'):\n",
        "                content = fetch_article_content(entry.link)\n",
        "                time.sleep(1)  # Be polite with requests\n",
        "\n",
        "            if content:\n",
        "                noticias.append({\n",
        "                    'titulo': entry.title,\n",
        "                    'fuente': entry.source.title if hasattr(entry, 'source') else 'Desconocido',\n",
        "                    'fecha': entry.published if hasattr(entry, 'published') else None,\n",
        "                    'enlace': entry.link,\n",
        "                    'contenido': content\n",
        "                })\n",
        "            else:\n",
        "                noticias.append({\n",
        "                    'titulo': entry.title,\n",
        "                    'fuente': entry.source.title if hasattr(entry, 'source') else 'Desconocido',\n",
        "                    'fecha': entry.published if hasattr(entry, 'published') else None,\n",
        "                    'enlace': entry.link,\n",
        "                    'contenido': entry.title\n",
        "                })\n",
        "\n",
        "        return pd.DataFrame(noticias)\n",
        "\n",
        "    except Exception as e:\n",
        "        print(f\"Error in news extraction: {e}\")\n",
        "        return pd.DataFrame()\n",
        "\n"
      ],
      "metadata": {
        "id": "Q-j4VEcnZrcy"
      },
      "execution_count": 57,
      "outputs": []
    },
    {
      "cell_type": "code",
      "source": [
        "# Extraer noticias (reducido a 30 para demo)\n",
        "print(\"Extrayendo noticias con contenido completo...\")\n",
        "df_noticias = extraer_noticias_completas(\"Argentine\", 100)\n",
        "print(f\"\\nNoticias extraídas correctamente: {len(df_noticias)}\")\n",
        "#print(f\"Ejemplo de contenido:\\n{df_noticias['contenido'].iloc[0][:300]}...\")"
      ],
      "metadata": {
        "colab": {
          "base_uri": "https://localhost:8080/"
        },
        "id": "jtQKh2MnZ6eR",
        "outputId": "4aec5b77-a61e-4b9d-b039-b6c71eaa535c"
      },
      "execution_count": 58,
      "outputs": [
        {
          "output_type": "stream",
          "name": "stdout",
          "text": [
            "Extrayendo noticias con contenido completo...\n",
            "\n",
            "Noticias extraídas correctamente: 100\n"
          ]
        }
      ]
    },
    {
      "cell_type": "code",
      "source": [
        "df_noticias.head()"
      ],
      "metadata": {
        "colab": {
          "base_uri": "https://localhost:8080/",
          "height": 206
        },
        "id": "JQUe79CxaR5A",
        "outputId": "97ecf2d1-cb9a-4d75-9e5a-5c71f16cb9b4"
      },
      "execution_count": 59,
      "outputs": [
        {
          "output_type": "execute_result",
          "data": {
            "text/plain": [
              "                                              titulo              fuente  \\\n",
              "0  Suba de aranceles en EEUU: qué significa la de...             Infobae   \n",
              "1  Qué dicen los documentos de Estados Unidos sob...          Clarin.com   \n",
              "2  ¿Cómo afectarán a Argentina los aranceles anun...    El Intransigente   \n",
              "3  Argentina en el abismo: el \"Cisne Negro\" que a...   Ámbito Financiero   \n",
              "4  ¿Cuántos barcos ingleses hundió la aviación ar...  La Nueva Provincia   \n",
              "\n",
              "                           fecha  \\\n",
              "0  Thu, 03 Apr 2025 03:43:51 GMT   \n",
              "1  Thu, 03 Apr 2025 01:16:00 GMT   \n",
              "2  Thu, 03 Apr 2025 01:47:59 GMT   \n",
              "3  Fri, 04 Apr 2025 12:53:00 GMT   \n",
              "4  Wed, 02 Apr 2025 18:32:06 GMT   \n",
              "\n",
              "                                              enlace  \\\n",
              "0  https://news.google.com/rss/articles/CBMi6AFBV...   \n",
              "1  https://news.google.com/rss/articles/CBMi3AFBV...   \n",
              "2  https://news.google.com/rss/articles/CBMiqAFBV...   \n",
              "3  https://news.google.com/rss/articles/CBMitAFBV...   \n",
              "4  https://news.google.com/rss/articles/CBMiwAFBV...   \n",
              "\n",
              "                                           contenido  \n",
              "0  Suba de aranceles en EEUU: qué significa la de...  \n",
              "1  Qué dicen los documentos de Estados Unidos sob...  \n",
              "2  ¿Cómo afectarán a Argentina los aranceles anun...  \n",
              "3  Argentina en el abismo: el \"Cisne Negro\" que a...  \n",
              "4  ¿Cuántos barcos ingleses hundió la aviación ar...  "
            ],
            "text/html": [
              "\n",
              "  <div id=\"df-c88badf8-1d44-4bed-8053-2ab4383a591c\" class=\"colab-df-container\">\n",
              "    <div>\n",
              "<style scoped>\n",
              "    .dataframe tbody tr th:only-of-type {\n",
              "        vertical-align: middle;\n",
              "    }\n",
              "\n",
              "    .dataframe tbody tr th {\n",
              "        vertical-align: top;\n",
              "    }\n",
              "\n",
              "    .dataframe thead th {\n",
              "        text-align: right;\n",
              "    }\n",
              "</style>\n",
              "<table border=\"1\" class=\"dataframe\">\n",
              "  <thead>\n",
              "    <tr style=\"text-align: right;\">\n",
              "      <th></th>\n",
              "      <th>titulo</th>\n",
              "      <th>fuente</th>\n",
              "      <th>fecha</th>\n",
              "      <th>enlace</th>\n",
              "      <th>contenido</th>\n",
              "    </tr>\n",
              "  </thead>\n",
              "  <tbody>\n",
              "    <tr>\n",
              "      <th>0</th>\n",
              "      <td>Suba de aranceles en EEUU: qué significa la de...</td>\n",
              "      <td>Infobae</td>\n",
              "      <td>Thu, 03 Apr 2025 03:43:51 GMT</td>\n",
              "      <td>https://news.google.com/rss/articles/CBMi6AFBV...</td>\n",
              "      <td>Suba de aranceles en EEUU: qué significa la de...</td>\n",
              "    </tr>\n",
              "    <tr>\n",
              "      <th>1</th>\n",
              "      <td>Qué dicen los documentos de Estados Unidos sob...</td>\n",
              "      <td>Clarin.com</td>\n",
              "      <td>Thu, 03 Apr 2025 01:16:00 GMT</td>\n",
              "      <td>https://news.google.com/rss/articles/CBMi3AFBV...</td>\n",
              "      <td>Qué dicen los documentos de Estados Unidos sob...</td>\n",
              "    </tr>\n",
              "    <tr>\n",
              "      <th>2</th>\n",
              "      <td>¿Cómo afectarán a Argentina los aranceles anun...</td>\n",
              "      <td>El Intransigente</td>\n",
              "      <td>Thu, 03 Apr 2025 01:47:59 GMT</td>\n",
              "      <td>https://news.google.com/rss/articles/CBMiqAFBV...</td>\n",
              "      <td>¿Cómo afectarán a Argentina los aranceles anun...</td>\n",
              "    </tr>\n",
              "    <tr>\n",
              "      <th>3</th>\n",
              "      <td>Argentina en el abismo: el \"Cisne Negro\" que a...</td>\n",
              "      <td>Ámbito Financiero</td>\n",
              "      <td>Fri, 04 Apr 2025 12:53:00 GMT</td>\n",
              "      <td>https://news.google.com/rss/articles/CBMitAFBV...</td>\n",
              "      <td>Argentina en el abismo: el \"Cisne Negro\" que a...</td>\n",
              "    </tr>\n",
              "    <tr>\n",
              "      <th>4</th>\n",
              "      <td>¿Cuántos barcos ingleses hundió la aviación ar...</td>\n",
              "      <td>La Nueva Provincia</td>\n",
              "      <td>Wed, 02 Apr 2025 18:32:06 GMT</td>\n",
              "      <td>https://news.google.com/rss/articles/CBMiwAFBV...</td>\n",
              "      <td>¿Cuántos barcos ingleses hundió la aviación ar...</td>\n",
              "    </tr>\n",
              "  </tbody>\n",
              "</table>\n",
              "</div>\n",
              "    <div class=\"colab-df-buttons\">\n",
              "\n",
              "  <div class=\"colab-df-container\">\n",
              "    <button class=\"colab-df-convert\" onclick=\"convertToInteractive('df-c88badf8-1d44-4bed-8053-2ab4383a591c')\"\n",
              "            title=\"Convert this dataframe to an interactive table.\"\n",
              "            style=\"display:none;\">\n",
              "\n",
              "  <svg xmlns=\"http://www.w3.org/2000/svg\" height=\"24px\" viewBox=\"0 -960 960 960\">\n",
              "    <path d=\"M120-120v-720h720v720H120Zm60-500h600v-160H180v160Zm220 220h160v-160H400v160Zm0 220h160v-160H400v160ZM180-400h160v-160H180v160Zm440 0h160v-160H620v160ZM180-180h160v-160H180v160Zm440 0h160v-160H620v160Z\"/>\n",
              "  </svg>\n",
              "    </button>\n",
              "\n",
              "  <style>\n",
              "    .colab-df-container {\n",
              "      display:flex;\n",
              "      gap: 12px;\n",
              "    }\n",
              "\n",
              "    .colab-df-convert {\n",
              "      background-color: #E8F0FE;\n",
              "      border: none;\n",
              "      border-radius: 50%;\n",
              "      cursor: pointer;\n",
              "      display: none;\n",
              "      fill: #1967D2;\n",
              "      height: 32px;\n",
              "      padding: 0 0 0 0;\n",
              "      width: 32px;\n",
              "    }\n",
              "\n",
              "    .colab-df-convert:hover {\n",
              "      background-color: #E2EBFA;\n",
              "      box-shadow: 0px 1px 2px rgba(60, 64, 67, 0.3), 0px 1px 3px 1px rgba(60, 64, 67, 0.15);\n",
              "      fill: #174EA6;\n",
              "    }\n",
              "\n",
              "    .colab-df-buttons div {\n",
              "      margin-bottom: 4px;\n",
              "    }\n",
              "\n",
              "    [theme=dark] .colab-df-convert {\n",
              "      background-color: #3B4455;\n",
              "      fill: #D2E3FC;\n",
              "    }\n",
              "\n",
              "    [theme=dark] .colab-df-convert:hover {\n",
              "      background-color: #434B5C;\n",
              "      box-shadow: 0px 1px 3px 1px rgba(0, 0, 0, 0.15);\n",
              "      filter: drop-shadow(0px 1px 2px rgba(0, 0, 0, 0.3));\n",
              "      fill: #FFFFFF;\n",
              "    }\n",
              "  </style>\n",
              "\n",
              "    <script>\n",
              "      const buttonEl =\n",
              "        document.querySelector('#df-c88badf8-1d44-4bed-8053-2ab4383a591c button.colab-df-convert');\n",
              "      buttonEl.style.display =\n",
              "        google.colab.kernel.accessAllowed ? 'block' : 'none';\n",
              "\n",
              "      async function convertToInteractive(key) {\n",
              "        const element = document.querySelector('#df-c88badf8-1d44-4bed-8053-2ab4383a591c');\n",
              "        const dataTable =\n",
              "          await google.colab.kernel.invokeFunction('convertToInteractive',\n",
              "                                                    [key], {});\n",
              "        if (!dataTable) return;\n",
              "\n",
              "        const docLinkHtml = 'Like what you see? Visit the ' +\n",
              "          '<a target=\"_blank\" href=https://colab.research.google.com/notebooks/data_table.ipynb>data table notebook</a>'\n",
              "          + ' to learn more about interactive tables.';\n",
              "        element.innerHTML = '';\n",
              "        dataTable['output_type'] = 'display_data';\n",
              "        await google.colab.output.renderOutput(dataTable, element);\n",
              "        const docLink = document.createElement('div');\n",
              "        docLink.innerHTML = docLinkHtml;\n",
              "        element.appendChild(docLink);\n",
              "      }\n",
              "    </script>\n",
              "  </div>\n",
              "\n",
              "\n",
              "<div id=\"df-b4c0b5c7-959f-4ee7-b2d7-78214c87ca20\">\n",
              "  <button class=\"colab-df-quickchart\" onclick=\"quickchart('df-b4c0b5c7-959f-4ee7-b2d7-78214c87ca20')\"\n",
              "            title=\"Suggest charts\"\n",
              "            style=\"display:none;\">\n",
              "\n",
              "<svg xmlns=\"http://www.w3.org/2000/svg\" height=\"24px\"viewBox=\"0 0 24 24\"\n",
              "     width=\"24px\">\n",
              "    <g>\n",
              "        <path d=\"M19 3H5c-1.1 0-2 .9-2 2v14c0 1.1.9 2 2 2h14c1.1 0 2-.9 2-2V5c0-1.1-.9-2-2-2zM9 17H7v-7h2v7zm4 0h-2V7h2v10zm4 0h-2v-4h2v4z\"/>\n",
              "    </g>\n",
              "</svg>\n",
              "  </button>\n",
              "\n",
              "<style>\n",
              "  .colab-df-quickchart {\n",
              "      --bg-color: #E8F0FE;\n",
              "      --fill-color: #1967D2;\n",
              "      --hover-bg-color: #E2EBFA;\n",
              "      --hover-fill-color: #174EA6;\n",
              "      --disabled-fill-color: #AAA;\n",
              "      --disabled-bg-color: #DDD;\n",
              "  }\n",
              "\n",
              "  [theme=dark] .colab-df-quickchart {\n",
              "      --bg-color: #3B4455;\n",
              "      --fill-color: #D2E3FC;\n",
              "      --hover-bg-color: #434B5C;\n",
              "      --hover-fill-color: #FFFFFF;\n",
              "      --disabled-bg-color: #3B4455;\n",
              "      --disabled-fill-color: #666;\n",
              "  }\n",
              "\n",
              "  .colab-df-quickchart {\n",
              "    background-color: var(--bg-color);\n",
              "    border: none;\n",
              "    border-radius: 50%;\n",
              "    cursor: pointer;\n",
              "    display: none;\n",
              "    fill: var(--fill-color);\n",
              "    height: 32px;\n",
              "    padding: 0;\n",
              "    width: 32px;\n",
              "  }\n",
              "\n",
              "  .colab-df-quickchart:hover {\n",
              "    background-color: var(--hover-bg-color);\n",
              "    box-shadow: 0 1px 2px rgba(60, 64, 67, 0.3), 0 1px 3px 1px rgba(60, 64, 67, 0.15);\n",
              "    fill: var(--button-hover-fill-color);\n",
              "  }\n",
              "\n",
              "  .colab-df-quickchart-complete:disabled,\n",
              "  .colab-df-quickchart-complete:disabled:hover {\n",
              "    background-color: var(--disabled-bg-color);\n",
              "    fill: var(--disabled-fill-color);\n",
              "    box-shadow: none;\n",
              "  }\n",
              "\n",
              "  .colab-df-spinner {\n",
              "    border: 2px solid var(--fill-color);\n",
              "    border-color: transparent;\n",
              "    border-bottom-color: var(--fill-color);\n",
              "    animation:\n",
              "      spin 1s steps(1) infinite;\n",
              "  }\n",
              "\n",
              "  @keyframes spin {\n",
              "    0% {\n",
              "      border-color: transparent;\n",
              "      border-bottom-color: var(--fill-color);\n",
              "      border-left-color: var(--fill-color);\n",
              "    }\n",
              "    20% {\n",
              "      border-color: transparent;\n",
              "      border-left-color: var(--fill-color);\n",
              "      border-top-color: var(--fill-color);\n",
              "    }\n",
              "    30% {\n",
              "      border-color: transparent;\n",
              "      border-left-color: var(--fill-color);\n",
              "      border-top-color: var(--fill-color);\n",
              "      border-right-color: var(--fill-color);\n",
              "    }\n",
              "    40% {\n",
              "      border-color: transparent;\n",
              "      border-right-color: var(--fill-color);\n",
              "      border-top-color: var(--fill-color);\n",
              "    }\n",
              "    60% {\n",
              "      border-color: transparent;\n",
              "      border-right-color: var(--fill-color);\n",
              "    }\n",
              "    80% {\n",
              "      border-color: transparent;\n",
              "      border-right-color: var(--fill-color);\n",
              "      border-bottom-color: var(--fill-color);\n",
              "    }\n",
              "    90% {\n",
              "      border-color: transparent;\n",
              "      border-bottom-color: var(--fill-color);\n",
              "    }\n",
              "  }\n",
              "</style>\n",
              "\n",
              "  <script>\n",
              "    async function quickchart(key) {\n",
              "      const quickchartButtonEl =\n",
              "        document.querySelector('#' + key + ' button');\n",
              "      quickchartButtonEl.disabled = true;  // To prevent multiple clicks.\n",
              "      quickchartButtonEl.classList.add('colab-df-spinner');\n",
              "      try {\n",
              "        const charts = await google.colab.kernel.invokeFunction(\n",
              "            'suggestCharts', [key], {});\n",
              "      } catch (error) {\n",
              "        console.error('Error during call to suggestCharts:', error);\n",
              "      }\n",
              "      quickchartButtonEl.classList.remove('colab-df-spinner');\n",
              "      quickchartButtonEl.classList.add('colab-df-quickchart-complete');\n",
              "    }\n",
              "    (() => {\n",
              "      let quickchartButtonEl =\n",
              "        document.querySelector('#df-b4c0b5c7-959f-4ee7-b2d7-78214c87ca20 button');\n",
              "      quickchartButtonEl.style.display =\n",
              "        google.colab.kernel.accessAllowed ? 'block' : 'none';\n",
              "    })();\n",
              "  </script>\n",
              "</div>\n",
              "\n",
              "    </div>\n",
              "  </div>\n"
            ],
            "application/vnd.google.colaboratory.intrinsic+json": {
              "type": "dataframe",
              "variable_name": "df_noticias",
              "summary": "{\n  \"name\": \"df_noticias\",\n  \"rows\": 100,\n  \"fields\": [\n    {\n      \"column\": \"titulo\",\n      \"properties\": {\n        \"dtype\": \"string\",\n        \"num_unique_values\": 100,\n        \"samples\": [\n          \"Incertidumbre econ\\u00f3mica en Argentina: los bonos Globales se desploman por el contexto adverso y el riesgo pa\\u00eds aumenta - Telesol Diario\",\n          \"Ingenio puro: el m\\u00e9todo de un influencer para ingresar a las Islas Malvinas con la camiseta de Maradona y alzar la bandera argentina - TN\",\n          \"Expresidenta Fern\\u00e1ndez pide a Corte Suprema argentina que revierta su condena y apunta contra juez - Independent en Espa\\u00f1ol\"\n        ],\n        \"semantic_type\": \"\",\n        \"description\": \"\"\n      }\n    },\n    {\n      \"column\": \"fuente\",\n      \"properties\": {\n        \"dtype\": \"category\",\n        \"num_unique_values\": 44,\n        \"samples\": [\n          \"Newsweek Argentina\",\n          \"Agencia Noticias Argentinas\",\n          \"afa.com.ar\"\n        ],\n        \"semantic_type\": \"\",\n        \"description\": \"\"\n      }\n    },\n    {\n      \"column\": \"fecha\",\n      \"properties\": {\n        \"dtype\": \"object\",\n        \"num_unique_values\": 98,\n        \"samples\": [\n          \"Tue, 01 Apr 2025 19:13:27 GMT\",\n          \"Mon, 31 Mar 2025 20:26:15 GMT\",\n          \"Wed, 02 Apr 2025 20:54:19 GMT\"\n        ],\n        \"semantic_type\": \"\",\n        \"description\": \"\"\n      }\n    },\n    {\n      \"column\": \"enlace\",\n      \"properties\": {\n        \"dtype\": \"string\",\n        \"num_unique_values\": 100,\n        \"samples\": [\n          \"https://news.google.com/rss/articles/CBMi6gFBVV95cUxQVF9DZHpyc2ZiR2pLTEJhcWdOcEJDd1dUQ3RHU0pHY18yd3NFVUNBVDAteU01T0tueUlBd280ckFUbnRpOXBwMzYwdnZ5cDcwOXVaYWFHVmgzbHh4NjgtS09xNlBqeEhNOUZSd2Q2emwyZEhWelV0LW8xTG1rM1E2QlAyM2xtVEVnWEVuTWpOSVp2VlFYcWxoRFlxOF8zNmpxYzY0Nlo2N2lKYkpObWN5bUV0SXJkS2ZCMkNyTnhQTnEwcF9DUUJaZVM3ak81M3ZZaFJkRkRkZ0R1YTVfeGFSNUFtOGZNRnJ5WkE?oc=5\",\n          \"https://news.google.com/rss/articles/CBMi1wFBVV95cUxQN09mWXMwb3VtQlB0NUVzckFVdHgtZHBlMTJ2bktqdl8zdGZRVFhPOE5tTl9JVG84bWpIUUcteEE2Njc3QzlKd2Jsd3lrYkJiNXhtc3Jxc0x1cVdjMERxMGZpeGVaYko3UWJsdnRFVHJOM0lRRzJYeXl1TzB5QUw5QlRqSnBsVi1RSUdLMEFfamJxTTFLR0V3cC1DcUw3SGlFUWljWG9vUjZ5bk1fRVVmRW1vQ0htQUU0YXFIVzh0Wkk1eUFVUnFDbG0zWmkyX3hNM2RQbDQ4MNIB6wFBVV95cUxQUWRjVnZtUXZLZFpzZ2ZtNTdZQThUOThEUFhPdDJCbTR3THctY1B4OXhpbTZfRktET3pmNlRnQmRuYnE3eFVXMFY2SHBpVHg4NXhaa3NMVk9hWDBlMGFCOTFQOXl4Mmd3Zy1SMXVrTVJWdy1XQXZ3dWhZOUZzdU5MaFBHU2h5aFdkVDU4bnFHZURaNEY5ZnRIVUdCSUVkTDBhcjJzTExMLXBjMXVOcUVGVTd5dXBlQ2xwUDJTNmFOd1lQMkY3Rk4yeVFOQWxFOTdNdlkwV0steW9KZ0RKWmhtX2d6MEw1X2ZKMlZ3?oc=5\",\n          \"https://news.google.com/rss/articles/CBMi7AFBVV95cUxNT2J6X1hHMjVRYjFWS2xuay1zU2w4VFN1NHU5dDBCZGc0dXlCN1cxaGRKcUhJRXROZ0I3X1Mwejg4WEJadmd3ZHR3bWt0VHU0TmMyNm9jV0JDYUN1S2dKQUpQRE1mZXRqUl9OSHlTNnV4Rl9OTXVDQTZ6VWZBTTFBZzJTVGpNWXIxakFTTGV5NVdkLXhKYUQxYnBZWmdiU3BQbEZMdHBiTUpzaGRGVjNZb2QwTXVpb1I5SlhlUEJhV09Sc3E1bHk3RlVNN0xWcHdQVnQ2U1FIXzBZWG5Dblo3Rkp5bnJkaGU0ZFZkZA?oc=5\"\n        ],\n        \"semantic_type\": \"\",\n        \"description\": \"\"\n      }\n    },\n    {\n      \"column\": \"contenido\",\n      \"properties\": {\n        \"dtype\": \"string\",\n        \"num_unique_values\": 100,\n        \"samples\": [\n          \"Incertidumbre econ\\u00f3mica en Argentina: los bonos Globales se desploman por el contexto adverso y el riesgo pa\\u00eds aumenta - Telesol Diario\",\n          \"Ingenio puro: el m\\u00e9todo de un influencer para ingresar a las Islas Malvinas con la camiseta de Maradona y alzar la bandera argentina - TN\",\n          \"Expresidenta Fern\\u00e1ndez pide a Corte Suprema argentina que revierta su condena y apunta contra juez - Independent en Espa\\u00f1ol\"\n        ],\n        \"semantic_type\": \"\",\n        \"description\": \"\"\n      }\n    }\n  ]\n}"
            }
          },
          "metadata": {},
          "execution_count": 59
        }
      ]
    },
    {
      "cell_type": "code",
      "source": [
        "def preprocesar_texto(texto):\n",
        "    # Tokenización y limpieza\n",
        "    stop_words = set(stopwords.words('spanish') + list(stopwords.words('english')))\n",
        "    lemmatizer = WordNetLemmatizer()\n",
        "\n",
        "    # Eliminar URLs y caracteres especiales\n",
        "    texto = re.sub(r'http\\S+|www\\S+|https\\S+', '', texto, flags=re.MULTILINE)\n",
        "    texto = re.sub(r'\\@\\w+|\\#|\\d+', '', texto)\n",
        "\n",
        "    tokens = word_tokenize(texto.lower())\n",
        "    tokens = [lemmatizer.lemmatize(token) for token in tokens\n",
        "              if token.isalpha() and token not in stop_words and len(token) > 3]\n",
        "\n",
        "    return tokens"
      ],
      "metadata": {
        "id": "ip0PlFAHZ8rb"
      },
      "execution_count": 60,
      "outputs": []
    },
    {
      "cell_type": "code",
      "source": [
        "# Aplicar preprocesamiento\n",
        "print(\"\\nPreprocesando texto...\")\n",
        "df_noticias['tokens'] = df_noticias['contenido'].apply(preprocesar_texto)\n",
        "df_noticias['texto_limpio'] = df_noticias['tokens'].apply(lambda x: ' '.join(x))"
      ],
      "metadata": {
        "colab": {
          "base_uri": "https://localhost:8080/"
        },
        "id": "XYGqHYePaLER",
        "outputId": "43c64294-8fe6-471a-e10e-c01dd42c29d8"
      },
      "execution_count": 62,
      "outputs": [
        {
          "output_type": "stream",
          "name": "stdout",
          "text": [
            "\n",
            "Preprocesando texto...\n"
          ]
        }
      ]
    },
    {
      "cell_type": "code",
      "source": [
        "def modelado_lda(textos, num_topics=5):\n",
        "    diccionario = Dictionary(textos)\n",
        "    corpus = [diccionario.doc2bow(texto) for texto in textos]\n",
        "\n",
        "    modelo = LdaModel(\n",
        "        corpus=corpus,\n",
        "        id2word=diccionario,\n",
        "        num_topics=num_topics,\n",
        "        random_state=42,\n",
        "        passes=15,\n",
        "        alpha='auto'\n",
        "    )\n",
        "\n",
        "    return modelo, corpus, diccionario\n",
        "\n",
        "print(\"\\nEntrenando modelo LDA...\")\n",
        "modelo_lda, corpus, diccionario = modelado_lda(df_noticias['tokens'])"
      ],
      "metadata": {
        "colab": {
          "base_uri": "https://localhost:8080/"
        },
        "id": "SyzrW4Biggww",
        "outputId": "f3fffb37-dca8-4d95-ece8-8f1025c157cc"
      },
      "execution_count": 63,
      "outputs": [
        {
          "output_type": "stream",
          "name": "stdout",
          "text": [
            "\n",
            "Entrenando modelo LDA...\n"
          ]
        }
      ]
    },
    {
      "cell_type": "markdown",
      "source": [
        "Vamos a usar una visualizaicon interactiva"
      ],
      "metadata": {
        "id": "db2mJcmZjx43"
      }
    },
    {
      "cell_type": "code",
      "source": [
        "print(\"\\nGenerando visualización interactiva...\")\n",
        "pyLDAvis.enable_notebook()\n",
        "vis = gensimvis.prepare(modelo_lda, corpus, diccionario)\n",
        "vis"
      ],
      "metadata": {
        "colab": {
          "base_uri": "https://localhost:8080/",
          "height": 896
        },
        "id": "PRVr8i3FjuWP",
        "outputId": "1b5ffc3d-31a2-4484-d076-c5b4a5f22743"
      },
      "execution_count": 64,
      "outputs": [
        {
          "output_type": "stream",
          "name": "stdout",
          "text": [
            "\n",
            "Generando visualización interactiva...\n"
          ]
        },
        {
          "output_type": "execute_result",
          "data": {
            "text/plain": [
              "PreparedData(topic_coordinates=              x         y  topics  cluster       Freq\n",
              "topic                                                \n",
              "4      0.121988  0.040881       1        1  40.410197\n",
              "1      0.000972 -0.104277       2        1  19.732459\n",
              "2     -0.067117  0.025892       3        1  19.262009\n",
              "3     -0.052498  0.061490       4        1  12.366046\n",
              "0     -0.003346 -0.023986       5        1   8.229290, topic_info=              Term       Freq      Total Category  logprob  loglift\n",
              "1        aranceles   9.000000   9.000000  Default  30.0000  30.0000\n",
              "61           milei   7.000000   7.000000  Default  29.0000  29.0000\n",
              "7          infobae   7.000000   7.000000  Default  28.0000  28.0000\n",
              "10           trump  10.000000  10.000000  Default  27.0000  27.0000\n",
              "50       argentino   3.000000   3.000000  Default  26.0000  26.0000\n",
              "..             ...        ...        ...      ...      ...      ...\n",
              "179          sigue   0.487470   2.211604   Topic5  -4.9733   0.9852\n",
              "98          españa   0.487470   1.605203   Topic5  -4.9733   1.3057\n",
              "177       historia   0.487469   1.605204   Topic5  -4.9733   1.3057\n",
              "247  exportaciones   0.487468   1.599502   Topic5  -4.9733   1.3092\n",
              "9             suba   0.487468   2.834989   Topic5  -4.9733   0.7369\n",
              "\n",
              "[259 rows x 6 columns], token_table=      Topic      Freq      Term\n",
              "term                           \n",
              "108       1  0.500179     abril\n",
              "108       2  0.250090     abril\n",
              "108       4  0.250090     abril\n",
              "141       1  0.573495  acciones\n",
              "141       3  0.286748  acciones\n",
              "...     ...       ...       ...\n",
              "476       1  0.742999    volvió\n",
              "31        1  0.794690    ámbito\n",
              "31        2  0.158938    ámbito\n",
              "31        4  0.158938    ámbito\n",
              "107       5  0.717508   últimas\n",
              "\n",
              "[241 rows x 3 columns], R=30, lambda_step=0.01, plot_opts={'xlab': 'PC1', 'ylab': 'PC2'}, topic_order=[5, 2, 3, 4, 1])"
            ],
            "text/html": [
              "\n",
              "<link rel=\"stylesheet\" type=\"text/css\" href=\"https://cdn.jsdelivr.net/gh/bmabey/pyLDAvis@3.4.0/pyLDAvis/js/ldavis.v1.0.0.css\">\n",
              "\n",
              "\n",
              "<div id=\"ldavis_el28861398626092391042856647459\" style=\"background-color:white;\"></div>\n",
              "<script type=\"text/javascript\">\n",
              "\n",
              "var ldavis_el28861398626092391042856647459_data = {\"mdsDat\": {\"x\": [0.12198825711541311, 0.0009721688559139866, -0.06711658242740329, -0.05249759556431309, -0.0033462479796107854], \"y\": [0.04088065401576038, -0.10427653973204905, 0.02589185819333564, 0.06148996245982698, -0.023985934936873923], \"topics\": [1, 2, 3, 4, 5], \"cluster\": [1, 1, 1, 1, 1], \"Freq\": [40.410196680397945, 19.732458807940652, 19.262008677619697, 12.366045990674515, 8.229289843367193]}, \"tinfo\": {\"Term\": [\"aranceles\", \"milei\", \"infobae\", \"trump\", \"argentino\", \"noticias\", \"pa\\u00eds\", \"riesgo\", \"fifa\", \"puntos\", \"economista\", \"\\u00faltimas\", \"financieras\", \"econ\\u00f3micas\", \"ranking\", \"tiempo\", \"selecciones\", \"meti\\u00f3\", \"rec\\u00edprocos\", \"millones\", \"global\", \"sigue\", \"super\\u00f3\", \"vista\", \"suba\", \"pobreza\", \"argentinos\", \"anunci\\u00f3\", \"qued\\u00f3\", \"exportaciones\", \"brasil\", \"rep\\u00fablica\", \"crece\", \"deuda\", \"agencia\", \"dijo\", \"nuevo\", \"goleada\", \"cu\\u00e1ndo\", \"directora\", \"observador\", \"feriado\", \"copa\", \"junior\", \"cr\\u00e9dito\", \"solicit\\u00f3\", \"confirm\\u00f3\", \"financiero\", \"\\u00e1mbito\", \"acciones\", \"diario\", \"partidos\", \"reino\", \"plate\", \"pol\\u00edtica\", \"funcionario\", \"solidaridad\", \"lejos\", \"juega\", \"volvi\\u00f3\", \"qued\\u00f3\", \"argentina\", \"abril\", \"cancilleria\", \"mundial\", \"boca\", \"noticias\", \"argentinos\", \"millones\", \"trump\", \"infobae\", \"milei\", \"aranceles\", \"bonos\", \"espn\", \"agenda\", \"anuncia\", \"duda\", \"rodr\\u00edguez\", \"alberto\", \"minimizar\", \"negocios\", \"automotriz\", \"energ\\u00eda\", \"viable\", \"macri\", \"readecuar\\u00e1\", \"larreta\", \"h\\u00edbridos\", \"perdi\\u00f3\", \"decisi\\u00f3n\", \"entrar\", \"significa\", \"nuclear\", \"peor\", \"provincia\", \"plan\", \"auto\", \"legislaci\\u00f3n\", \"afectar\\u00e1\", \"all\\u00e1\", \"exitoso\", \"respondi\\u00f3\", \"industria\", \"milei\", \"infobae\", \"aranceles\", \"suba\", \"argentina\", \"pobreza\", \"javier\", \"unidos\", \"trump\", \"confirm\\u00f3\", \"\\u00e1mbito\", \"financiero\", \"boca\", \"econom\\u00eda\", \"clima\", \"fabricar\", \"historia\", \"impacto\", \"global\", \"d\\u00f3lar\", \"nueva\", \"argentino\", \"econ\\u00f3mica\", \"globales\", \"adverso\", \"telesol\", \"contexto\", \"importador\", \"desploman\", \"salada\", \"aumenta\", \"m\\u00ednimo\", \"dicen\", \"claro\", \"p\\u00e1rrafo\", \"cada\", \"impactar\", \"infracciones\", \"impuesto\", \"acus\\u00f3\", \"medio\", \"incertidumbre\", \"supera\", \"entr\\u00f3\", \"pais\", \"sector\", \"telef\\u00f3nica\", \"soberan\\u00eda\", \"promotes\", \"supuestas\", \"debilitar\", \"sigue\", \"anunci\\u00f3\", \"d\\u00f3lar\", \"riesgo\", \"trump\", \"aranceles\", \"puntos\", \"argentina\", \"pa\\u00eds\", \"malvinas\", \"apunta\", \"fern\\u00e1ndez\", \"pide\", \"nueva\", \"exportaciones\", \"camiseta\", \"maradona\", \"super\\u00f3\", \"vista\", \"hilo\", \"anot\\u00f3\", \"dudas\", \"merval\", \"alzar\", \"baja\", \"puro\", \"incre\\u00edble\", \"a\\u00f1os\", \"trata\", \"resistieron\", \"ingenio\", \"narcotr\\u00e1fico\", \"b\\u00e1sicos\", \"cuarta\", \"aves\", \"secta\", \"sudam\\u00e9rica\", \"hallazgo\", \"tensi\\u00f3n\", \"staff\", \"comedia\", \"persona\", \"heart\", \"creci\\u00f3\", \"vinculada\", \"poderosas\", \"tener\", \"global\", \"puntos\", \"pa\\u00eds\", \"millones\", \"riesgo\", \"argentina\", \"bandera\", \"influencer\", \"fabricar\", \"maradona\", \"nueva\", \"anunci\\u00f3\", \"camiseta\", \"islas\", \"argentine\", \"clima\", \"economista\", \"\\u00faltimas\", \"financieras\", \"econ\\u00f3micas\", \"ranking\", \"selecciones\", \"tiempo\", \"meti\\u00f3\", \"rec\\u00edprocos\", \"haciendo\", \"cima\", \"lider\\u00f3\", \"toda\", \"mantuvieron\", \"dispuso\", \"impactar\\u00e1\", \"cayeron\", \"made\", \"permitir\\u00e1\", \"flotante\", \"iprofesional\", \"estaci\\u00f3n\", \"lojo\", \"desventaja\", \"importante\", \"granos\", \"presentan\", \"servicios\", \"exterior\", \"arca\", \"fifa\", \"noticias\", \"aranceles\", \"argentina\", \"trump\", \"pobreza\", \"sigue\", \"espa\\u00f1a\", \"historia\", \"exportaciones\", \"suba\"], \"Freq\": [9.0, 7.0, 7.0, 10.0, 3.0, 2.0, 5.0, 4.0, 2.0, 2.0, 1.0, 1.0, 1.0, 1.0, 1.0, 1.0, 1.0, 1.0, 1.0, 3.0, 2.0, 2.0, 1.0, 1.0, 2.0, 2.0, 3.0, 2.0, 2.0, 1.0, 3.211682619269677, 1.6822894942554372, 1.6822877224029897, 1.6822875613254946, 1.6822857894730472, 1.682284984085571, 1.6822846619305805, 1.6822846619305805, 1.6822833733106188, 1.6822833733106188, 1.682282729000638, 1.682246808719203, 1.6820088972587577, 1.6819438219506875, 1.676734575755156, 1.6765549743479817, 3.20636835054726, 4.736487612909968, 4.736484713515054, 2.4472627878993514, 2.4470231045864588, 0.9175835892535943, 0.9175835892535943, 0.9175835087148467, 0.9175833476373515, 0.9175833476373515, 0.9175833476373515, 0.9175833476373515, 0.9175832670986039, 0.9175832670986039, 1.682011152343691, 36.09260342787392, 2.447146328870305, 1.682321709754482, 1.6823495761611555, 1.6820303205656224, 1.6823009307575982, 1.6823345959540998, 1.6765380612109833, 3.9768419574205747, 2.446646183247635, 2.447828492062577, 1.6823677779181159, 1.6823315354816906, 1.3590315437278921, 1.3590065315085624, 1.3584377001557573, 1.358409856364428, 0.7412770764615391, 0.7412770764615391, 0.7412770764615391, 0.7412768404972058, 0.7412768404972058, 0.741276761842428, 0.741276761842428, 0.7412766831876502, 0.7412766045328725, 0.7412766045328725, 0.7412766045328725, 0.7412766045328725, 0.7412764472233169, 0.7412764472233169, 0.7412764472233169, 0.7412764472233169, 0.7412764472233169, 0.7412762899137614, 0.7412763685685391, 0.7412762899137614, 0.7412762899137614, 0.7412762112589836, 0.7412762112589836, 0.7412758966398725, 0.7412760539494281, 0.7412759752946503, 4.446804807072471, 3.830384482146589, 3.212276540308954, 1.3590351618476695, 11.245142695686576, 1.3581117547566939, 1.359026509822115, 1.3590158127723388, 1.9767388181275856, 0.745448060671704, 0.7450410221967638, 0.7450394491012085, 0.7414869274086193, 0.7412782562832055, 0.741277784354539, 0.7412775483902057, 0.74127739108065, 0.7412773124258724, 0.7412773124258724, 0.7412771551163168, 0.7412768404972058, 2.570590041932587, 0.7344351795908074, 0.7344351028112724, 0.7344348724726674, 0.7344348724726674, 0.7344347189135974, 0.7344346421340624, 0.7344346421340624, 0.7344345653545273, 0.7344346421340624, 0.7344344117954573, 0.7344344117954573, 0.7344342582363873, 0.7344342582363873, 0.7344342582363873, 0.7344342582363873, 0.7344341046773173, 0.7344341814568522, 0.7344341046773173, 0.7344339511182473, 0.7344341046773173, 0.7344339511182473, 0.7344339511182473, 0.7344340278977822, 0.7344340278977822, 0.7344337975591773, 0.7344338743387122, 0.7344337975591773, 0.7344337975591773, 0.7344338743387122, 1.3463062660914147, 1.3464880800303174, 1.3464883871484574, 1.9583423518127576, 3.7944390920465345, 3.1826238242678793, 1.3462810824039315, 10.52662535193724, 1.958322389133655, 1.3464814769903066, 0.734576300376155, 0.7345502721137868, 0.7345427477193558, 0.7344347956931324, 0.7344347189135974, 0.7344346421340624, 0.7344345653545273, 1.1121199313818686, 1.112116579538827, 0.6066030970001675, 0.6066030477083579, 0.6066028505411203, 0.6066027519575014, 0.6066027026656919, 0.606602604082073, 0.6066025547902636, 0.6066023083312164, 0.6066023083312164, 0.6066023083312164, 0.6066023083312164, 0.6066023083312164, 0.6066022097475976, 0.606602259039407, 0.6066023083312164, 0.6066022097475976, 0.606602259039407, 0.6066021604557882, 0.6066021604557882, 0.6066022097475976, 0.6066020618721693, 0.606601913996741, 0.6066020618721693, 0.606601913996741, 0.606601913996741, 0.6066019632885504, 0.6066019632885504, 0.6066017661213127, 1.1121221002214836, 1.1121199313818686, 1.6176356320519527, 1.1121046509209438, 1.1121214101361516, 3.6393562509911916, 0.6066037870854994, 0.6066037870854994, 0.6066035406264523, 0.6066027519575014, 0.6066027026656919, 0.6066027026656919, 0.6066025547902636, 0.6066025547902636, 0.6066024562066448, 0.6066024069148354, 0.8937044150794886, 0.8937042838696946, 0.8937042182647976, 0.8937038902403126, 0.8937038246354156, 0.8937036934256216, 0.8937036934256216, 0.8937032997962396, 0.8937020533031966, 0.4874693801592117, 0.4874691833445207, 0.4874689537273812, 0.4874688553200357, 0.48746888812248423, 0.48746869130779324, 0.48746869130779324, 0.4874685600979992, 0.48746806806127174, 0.48746796965392625, 0.48746796965392625, 0.48746793685147777, 0.48746777283923526, 0.48746767443188976, 0.4874676416294413, 0.4874676416294413, 0.4874675432220958, 0.4874674776171988, 0.48746705118536826, 0.4874667559633318, 0.4874662967290528, 0.8937046774990766, 0.8936979201946859, 1.2999317742268168, 2.1124713852581882, 0.8936786979598654, 0.48773327585738524, 0.4874695769739027, 0.4874695113690057, 0.4874693473567632, 0.48746849449310226, 0.4874683632833082], \"Total\": [9.0, 7.0, 7.0, 10.0, 3.0, 2.0, 5.0, 4.0, 2.0, 2.0, 1.0, 1.0, 1.0, 1.0, 1.0, 1.0, 1.0, 1.0, 1.0, 3.0, 2.0, 2.0, 1.0, 1.0, 2.0, 2.0, 3.0, 2.0, 2.0, 1.0, 3.6400061874640315, 2.110604879289613, 2.1106040237578663, 2.110604109621404, 2.110603594005579, 2.1106029954233354, 2.1106027859646366, 2.110602959581986, 2.1106022328625524, 2.1106026122610855, 2.110602509104621, 2.110594331378614, 2.110550401897563, 2.1105382865854474, 2.1095346966571507, 2.1094991464649255, 4.256711297400418, 6.291763151457006, 6.291763044079972, 3.487386779335812, 3.487339078059884, 1.345897180911795, 1.3458972183711801, 1.345897172075779, 1.3458970392119447, 1.3458971045008024, 1.3458971634008075, 1.34589721720308, 1.3458971291009407, 1.3458971358610692, 2.516780713224134, 63.616199111747115, 3.998565668695097, 2.722636179884241, 2.7283430127513815, 2.728282213800721, 2.923070399695665, 3.022347072588984, 3.120519695775473, 10.74281057698198, 7.493486504642867, 7.8116317954043195, 9.478313049537851, 3.2281421847587164, 1.8167381768112594, 1.8167438384296515, 1.8168798275336078, 1.816886702045893, 1.1989800160990707, 1.198980025758369, 1.1989800624492153, 1.1989799817661049, 1.1989800695810549, 1.1989800586976018, 1.1989800735070857, 1.1989800210121726, 1.1989799378102661, 1.1989800245775948, 1.198980051093569, 1.19898005131706, 1.1989800008530906, 1.1989800560144461, 1.1989800563762236, 1.1989800762878262, 1.1989801101207327, 1.1989798955393216, 1.1989800400994182, 1.198979960936114, 1.1989799841029092, 1.1989799374358692, 1.1989800260668804, 1.198979718752552, 1.198980006289504, 1.1989798905802218, 7.8116317954043195, 7.493486504642867, 9.478313049537851, 2.834988925356491, 63.616199111747115, 2.9875906145358098, 3.1934139095900784, 4.105148705180113, 10.74281057698198, 4.256711297400418, 6.291763044079972, 6.291763151457006, 2.728282213800721, 1.7044810942469395, 1.7044811437749117, 2.316505824197127, 1.6052040867139008, 1.8110055887374155, 2.210001308560115, 2.423061881412346, 2.3165058156594074, 3.0294415268177146, 1.19327846099443, 1.1932785215455974, 1.1932785547256684, 1.1932785674687862, 1.193278370375199, 1.1932783543786427, 1.1932783781588026, 1.1932783529247541, 1.1932785241527875, 1.1932783587433584, 1.193278377755849, 1.1932782722709079, 1.193278321031675, 1.1932783324584957, 1.1932783832722271, 1.193278157422647, 1.193278375101671, 1.193278302127754, 1.193278075128718, 1.193278387080519, 1.1932782083115194, 1.1932782390998773, 1.1932783671704483, 1.1932783915638272, 1.1932781081190302, 1.1932782842896639, 1.1932781770370773, 1.193278188504917, 1.1932783197540586, 2.2116035285466227, 2.310834983515906, 2.423061881412346, 4.046221180386573, 10.74281057698198, 9.478313049537851, 2.816408055013705, 63.616199111747115, 5.316361734922905, 3.693214542361159, 1.9578864034596979, 2.5756235516710797, 1.957895690309144, 2.3165058156594074, 1.5995024931719648, 1.6987792831404023, 1.698779117403556, 1.5922739832520338, 1.5922741215625964, 1.0867533541436605, 1.0867533353198482, 1.086753378649041, 1.0867534141625508, 1.0867533761541908, 1.0867534500509224, 1.0867533979665442, 1.0867532154124204, 1.0867532940893185, 1.0867533751284384, 1.0867534032086792, 1.0867534636205176, 1.0867532973976184, 1.0867533920303343, 1.0867534986901461, 1.0867533736471857, 1.0867534650368516, 1.0867533485250607, 1.086753357626851, 1.0867534954192513, 1.0867532410093246, 1.086753088405938, 1.0867533730549919, 1.0867532250469065, 1.0867532928808763, 1.08675342180101, 1.0867534568331043, 1.086753271230839, 2.210001308560115, 2.816408055013705, 5.316361734922905, 3.120519695775473, 4.046221180386573, 63.616199111747115, 1.6987789285190804, 1.698778794929172, 2.316505824197127, 1.698779117403556, 2.3165058156594074, 2.310834983515906, 1.6987792831404023, 1.6987792638677206, 1.698779104703108, 1.7044811437749117, 1.393712754080135, 1.3937129195060542, 1.3937128802175593, 1.393712957052886, 1.393713123295255, 1.3937130975622216, 1.3937131042365274, 1.3937133181014887, 1.3937137355170517, 0.9874761254837873, 0.9874762568292003, 0.9874763589821438, 0.9874762431913059, 0.9874764056466283, 0.9874763213092365, 0.9874763553047903, 0.987476282572159, 0.9874764546478381, 0.9874765235891289, 0.9874765391935595, 0.987476628067151, 0.9874766759667879, 0.9874767726205921, 0.9874767454527087, 0.9874768222463253, 0.9874766860499118, 0.9874768742006659, 0.9874765655690554, 0.9874768185008311, 0.9874771340973256, 2.011440049583668, 2.923070399695665, 9.478313049537851, 63.616199111747115, 10.74281057698198, 2.9875906145358098, 2.2116035285466227, 1.6052029353205148, 1.6052040867139008, 1.5995024931719648, 2.834988925356491], \"Category\": [\"Default\", \"Default\", \"Default\", \"Default\", \"Default\", \"Default\", \"Default\", \"Default\", \"Default\", \"Default\", \"Default\", \"Default\", \"Default\", \"Default\", \"Default\", \"Default\", \"Default\", \"Default\", \"Default\", \"Default\", \"Default\", \"Default\", \"Default\", \"Default\", \"Default\", \"Default\", \"Default\", \"Default\", \"Default\", \"Default\", \"Topic1\", \"Topic1\", \"Topic1\", \"Topic1\", \"Topic1\", \"Topic1\", \"Topic1\", \"Topic1\", \"Topic1\", \"Topic1\", \"Topic1\", \"Topic1\", \"Topic1\", \"Topic1\", \"Topic1\", \"Topic1\", \"Topic1\", \"Topic1\", \"Topic1\", \"Topic1\", \"Topic1\", \"Topic1\", \"Topic1\", \"Topic1\", \"Topic1\", \"Topic1\", \"Topic1\", \"Topic1\", \"Topic1\", \"Topic1\", \"Topic1\", \"Topic1\", \"Topic1\", \"Topic1\", \"Topic1\", \"Topic1\", \"Topic1\", \"Topic1\", \"Topic1\", \"Topic1\", \"Topic1\", \"Topic1\", \"Topic1\", \"Topic1\", \"Topic2\", \"Topic2\", \"Topic2\", \"Topic2\", \"Topic2\", \"Topic2\", \"Topic2\", \"Topic2\", \"Topic2\", \"Topic2\", \"Topic2\", \"Topic2\", \"Topic2\", \"Topic2\", \"Topic2\", \"Topic2\", \"Topic2\", \"Topic2\", \"Topic2\", \"Topic2\", \"Topic2\", \"Topic2\", \"Topic2\", \"Topic2\", \"Topic2\", \"Topic2\", \"Topic2\", \"Topic2\", \"Topic2\", \"Topic2\", \"Topic2\", \"Topic2\", \"Topic2\", \"Topic2\", \"Topic2\", \"Topic2\", \"Topic2\", \"Topic2\", \"Topic2\", \"Topic2\", \"Topic2\", \"Topic2\", \"Topic2\", \"Topic2\", \"Topic2\", \"Topic2\", \"Topic2\", \"Topic2\", \"Topic2\", \"Topic2\", \"Topic2\", \"Topic3\", \"Topic3\", \"Topic3\", \"Topic3\", \"Topic3\", \"Topic3\", \"Topic3\", \"Topic3\", \"Topic3\", \"Topic3\", \"Topic3\", \"Topic3\", \"Topic3\", \"Topic3\", \"Topic3\", \"Topic3\", \"Topic3\", \"Topic3\", \"Topic3\", \"Topic3\", \"Topic3\", \"Topic3\", \"Topic3\", \"Topic3\", \"Topic3\", \"Topic3\", \"Topic3\", \"Topic3\", \"Topic3\", \"Topic3\", \"Topic3\", \"Topic3\", \"Topic3\", \"Topic3\", \"Topic3\", \"Topic3\", \"Topic3\", \"Topic3\", \"Topic3\", \"Topic3\", \"Topic3\", \"Topic3\", \"Topic3\", \"Topic3\", \"Topic3\", \"Topic3\", \"Topic3\", \"Topic4\", \"Topic4\", \"Topic4\", \"Topic4\", \"Topic4\", \"Topic4\", \"Topic4\", \"Topic4\", \"Topic4\", \"Topic4\", \"Topic4\", \"Topic4\", \"Topic4\", \"Topic4\", \"Topic4\", \"Topic4\", \"Topic4\", \"Topic4\", \"Topic4\", \"Topic4\", \"Topic4\", \"Topic4\", \"Topic4\", \"Topic4\", \"Topic4\", \"Topic4\", \"Topic4\", \"Topic4\", \"Topic4\", \"Topic4\", \"Topic4\", \"Topic4\", \"Topic4\", \"Topic4\", \"Topic4\", \"Topic4\", \"Topic4\", \"Topic4\", \"Topic4\", \"Topic4\", \"Topic4\", \"Topic4\", \"Topic4\", \"Topic4\", \"Topic4\", \"Topic4\", \"Topic5\", \"Topic5\", \"Topic5\", \"Topic5\", \"Topic5\", \"Topic5\", \"Topic5\", \"Topic5\", \"Topic5\", \"Topic5\", \"Topic5\", \"Topic5\", \"Topic5\", \"Topic5\", \"Topic5\", \"Topic5\", \"Topic5\", \"Topic5\", \"Topic5\", \"Topic5\", \"Topic5\", \"Topic5\", \"Topic5\", \"Topic5\", \"Topic5\", \"Topic5\", \"Topic5\", \"Topic5\", \"Topic5\", \"Topic5\", \"Topic5\", \"Topic5\", \"Topic5\", \"Topic5\", \"Topic5\", \"Topic5\", \"Topic5\", \"Topic5\", \"Topic5\", \"Topic5\", \"Topic5\"], \"logprob\": [30.0, 29.0, 28.0, 27.0, 26.0, 25.0, 24.0, 23.0, 22.0, 21.0, 20.0, 19.0, 18.0, 17.0, 16.0, 15.0, 14.0, 13.0, 12.0, 11.0, 10.0, 9.0, 8.0, 7.0, 6.0, 5.0, 4.0, 3.0, 2.0, 1.0, -4.6794, -5.326, -5.326, -5.326, -5.326, -5.326, -5.326, -5.326, -5.326, -5.326, -5.326, -5.3261, -5.3262, -5.3262, -5.3293, -5.3294, -4.681, -4.2909, -4.2909, -4.9512, -4.9513, -5.9322, -5.9322, -5.9322, -5.9322, -5.9322, -5.9322, -5.9322, -5.9322, -5.9322, -5.3262, -2.2601, -4.9513, -5.326, -5.326, -5.3262, -5.326, -5.326, -5.3295, -4.4657, -4.9515, -4.951, -5.326, -5.326, -4.8226, -4.8226, -4.823, -4.8231, -5.4287, -5.4287, -5.4287, -5.4287, -5.4287, -5.4287, -5.4287, -5.4287, -5.4287, -5.4287, -5.4287, -5.4287, -5.4287, -5.4287, -5.4287, -5.4287, -5.4287, -5.4287, -5.4287, -5.4287, -5.4287, -5.4287, -5.4287, -5.4287, -5.4287, -5.4287, -3.6372, -3.7864, -3.9624, -4.8226, -2.7094, -4.8233, -4.8226, -4.8226, -4.4479, -5.4231, -5.4237, -5.4237, -5.4285, -5.4287, -5.4287, -5.4287, -5.4287, -5.4287, -5.4287, -5.4287, -5.4287, -4.1611, -5.4139, -5.4139, -5.4139, -5.4139, -5.4139, -5.4139, -5.4139, -5.4139, -5.4139, -5.4139, -5.4139, -5.4139, -5.4139, -5.4139, -5.4139, -5.4139, -5.4139, -5.4139, -5.4139, -5.4139, -5.4139, -5.4139, -5.4139, -5.4139, -5.4139, -5.4139, -5.4139, -5.4139, -5.4139, -4.8079, -4.8077, -4.8077, -4.4331, -3.7717, -3.9475, -4.8079, -2.7513, -4.4331, -4.8077, -5.4137, -5.4137, -5.4137, -5.4139, -5.4139, -5.4139, -5.4139, -4.5558, -4.5558, -5.1619, -5.1619, -5.1619, -5.1619, -5.1619, -5.1619, -5.1619, -5.1619, -5.1619, -5.1619, -5.1619, -5.1619, -5.1619, -5.1619, -5.1619, -5.1619, -5.1619, -5.1619, -5.1619, -5.1619, -5.1619, -5.1619, -5.1619, -5.1619, -5.1619, -5.1619, -5.1619, -5.1619, -4.5558, -4.5558, -4.1811, -4.5558, -4.5558, -3.3702, -5.1619, -5.1619, -5.1619, -5.1619, -5.1619, -5.1619, -5.1619, -5.1619, -5.1619, -5.1619, -4.3672, -4.3672, -4.3672, -4.3672, -4.3672, -4.3672, -4.3672, -4.3672, -4.3672, -4.9733, -4.9733, -4.9733, -4.9733, -4.9733, -4.9733, -4.9733, -4.9733, -4.9733, -4.9733, -4.9733, -4.9733, -4.9733, -4.9733, -4.9733, -4.9733, -4.9733, -4.9733, -4.9733, -4.9733, -4.9733, -4.3672, -4.3672, -3.9925, -3.5069, -4.3672, -4.9728, -4.9733, -4.9733, -4.9733, -4.9733, -4.9733], \"loglift\": [30.0, 29.0, 28.0, 27.0, 26.0, 25.0, 24.0, 23.0, 22.0, 21.0, 20.0, 19.0, 18.0, 17.0, 16.0, 15.0, 14.0, 13.0, 12.0, 11.0, 10.0, 9.0, 8.0, 7.0, 6.0, 5.0, 4.0, 3.0, 2.0, 1.0, 0.7809, 0.6793, 0.6793, 0.6793, 0.6793, 0.6793, 0.6793, 0.6793, 0.6793, 0.6793, 0.6793, 0.6792, 0.6791, 0.6791, 0.6765, 0.6764, 0.6227, 0.6221, 0.6221, 0.5519, 0.5518, 0.523, 0.523, 0.523, 0.523, 0.523, 0.523, 0.523, 0.523, 0.523, 0.5031, 0.3393, 0.4151, 0.4247, 0.4226, 0.4224, 0.3536, 0.3202, 0.2848, -0.0877, -0.2132, -0.2543, -0.8227, 0.2544, 1.3326, 1.3326, 1.3321, 1.3321, 1.1421, 1.1421, 1.1421, 1.1421, 1.1421, 1.1421, 1.1421, 1.1421, 1.1421, 1.1421, 1.1421, 1.1421, 1.1421, 1.1421, 1.1421, 1.1421, 1.1421, 1.1421, 1.1421, 1.1421, 1.1421, 1.1421, 1.1421, 1.1421, 1.1421, 1.1421, 1.0595, 0.9518, 0.5409, 0.8876, -0.11, 0.8345, 0.7686, 0.5174, -0.0699, -0.1194, -0.5107, -0.5107, 0.3201, 0.7903, 0.7903, 0.4835, 0.8503, 0.7296, 0.5305, 0.4385, 0.4835, 1.4828, 1.1617, 1.1617, 1.1617, 1.1617, 1.1617, 1.1617, 1.1617, 1.1617, 1.1617, 1.1617, 1.1617, 1.1617, 1.1617, 1.1617, 1.1617, 1.1617, 1.1617, 1.1617, 1.1617, 1.1617, 1.1617, 1.1617, 1.1617, 1.1617, 1.1617, 1.1617, 1.1617, 1.1617, 1.1617, 1.1507, 1.1069, 1.0595, 0.9214, 0.6063, 0.5557, 0.9089, -0.1519, 0.6483, 0.638, 0.6667, 0.3924, 0.6667, 0.4983, 0.8687, 0.8085, 0.8085, 1.7313, 1.7313, 1.5071, 1.5071, 1.5071, 1.5071, 1.5071, 1.5071, 1.5071, 1.5071, 1.5071, 1.5071, 1.5071, 1.5071, 1.5071, 1.5071, 1.5071, 1.5071, 1.5071, 1.5071, 1.5071, 1.5071, 1.5071, 1.5071, 1.5071, 1.5071, 1.5071, 1.5071, 1.5071, 1.5071, 1.4035, 1.161, 0.9004, 1.0585, 0.7987, -0.7708, 1.0604, 1.0604, 0.7503, 1.0604, 0.7503, 0.7527, 1.0604, 1.0604, 1.0604, 1.0571, 2.0531, 2.0531, 2.0531, 2.0531, 2.0531, 2.0531, 2.0531, 2.0531, 2.0531, 1.7915, 1.7915, 1.7915, 1.7915, 1.7915, 1.7915, 1.7915, 1.7915, 1.7915, 1.7915, 1.7915, 1.7915, 1.7915, 1.7915, 1.7915, 1.7915, 1.7915, 1.7915, 1.7915, 1.7915, 1.7915, 1.6862, 1.3124, 0.5108, -0.9075, 0.0108, 0.685, 0.9852, 1.3057, 1.3057, 1.3092, 0.7369]}, \"token.table\": {\"Topic\": [1, 2, 4, 1, 3, 3, 3, 2, 1, 2, 2, 2, 4, 4, 2, 3, 4, 1, 3, 1, 2, 3, 5, 1, 2, 3, 4, 5, 3, 4, 3, 1, 4, 3, 2, 2, 4, 4, 4, 3, 4, 1, 2, 1, 3, 4, 1, 4, 3, 3, 4, 1, 3, 3, 2, 4, 4, 1, 2, 3, 1, 1, 4, 1, 4, 1, 3, 2, 3, 1, 1, 3, 3, 1, 1, 2, 4, 2, 3, 5, 2, 4, 3, 5, 2, 2, 3, 2, 2, 2, 3, 2, 3, 4, 1, 1, 2, 3, 2, 5, 5, 1, 2, 4, 1, 2, 4, 3, 1, 4, 4, 4, 2, 2, 3, 2, 3, 3, 3, 3, 4, 2, 3, 4, 1, 2, 4, 3, 4, 3, 4, 1, 2, 3, 1, 1, 2, 2, 1, 2, 1, 2, 3, 4, 3, 4, 3, 4, 5, 1, 2, 3, 1, 4, 2, 1, 2, 3, 4, 2, 1, 5, 2, 2, 3, 4, 1, 1, 3, 1, 1, 2, 3, 4, 2, 2, 4, 1, 3, 2, 1, 1, 2, 4, 1, 3, 2, 3, 4, 4, 3, 1, 5, 2, 5, 1, 1, 4, 2, 2, 3, 4, 2, 3, 4, 3, 5, 2, 3, 3, 1, 1, 4, 2, 3, 4, 3, 4, 3, 3, 3, 4, 4, 5, 4, 1, 2, 3, 5, 1, 2, 3, 4, 2, 4, 4, 1, 1, 2, 4, 5], \"Freq\": [0.5001793557269963, 0.25008967786349817, 0.25008967786349817, 0.5734953208662759, 0.28674766043313793, 0.8380274729012366, 0.8380272955042735, 0.8340423127834763, 0.9475962258759961, 0.5504353331751907, 0.8340422513440023, 0.8340422511293937, 0.9201719745640965, 0.9201720091392079, 0.5503941344087065, 0.43274401120521067, 0.43274401120521067, 0.5107548620966683, 0.5107548620966683, 0.21100801266502978, 0.31651201899754466, 0.31651201899754466, 0.10550400633251489, 0.5658936010427631, 0.17291193365195537, 0.17291193365195537, 0.06287706678252923, 0.031438533391264616, 0.588658052851885, 0.588658052851885, 0.9902815332274654, 0.6617373689934203, 0.33086868449671014, 0.8380273169752949, 0.8340422964360816, 0.8340422208597829, 0.9201719766868189, 0.92017204404978, 0.9201719119945215, 0.5886581139028816, 0.5886581139028816, 0.7330619940573655, 0.36653099702868275, 0.6195513969126758, 0.3097756984563379, 0.3097756984563379, 0.8241744232006596, 0.9201719611215046, 0.8380274516002592, 0.5886579910201031, 0.5886579910201031, 0.7345821725196624, 0.3672910862598312, 0.838027493869403, 0.5866888018398969, 0.5866888018398969, 0.9201722182053438, 0.7047694312348844, 0.2349231437449615, 0.8380274249717381, 0.947620108101579, 0.9475960329304504, 0.9201720450729881, 0.9480763711397003, 0.9201718708108975, 0.9475968369878272, 0.8380274605224585, 0.8340422686687737, 0.8380274195053915, 0.9475959943803749, 0.5735031653740601, 0.28675158268703005, 0.8380274197883817, 0.9475964946211255, 0.9475966666493428, 0.5503920518951219, 0.9201719724516656, 0.4127009746103238, 0.4127009746103238, 0.7175079635832209, 0.5866888188876112, 0.5866888188876112, 0.8380273613307664, 0.7175078590892758, 0.8340422284306005, 0.8340422302970746, 0.8380275171650894, 0.6229741909862179, 0.5504370485323322, 0.834042464905432, 0.6251943990514859, 0.43168464743514645, 0.43168464743514645, 0.43168464743514645, 0.9476003845294253, 0.3882554961695369, 0.3882554961695369, 0.3882554961695369, 0.4971562539022637, 0.4971562539022637, 0.7175078986454508, 0.7946897999239104, 0.15893795998478208, 0.15893795998478208, 0.7429988493592184, 0.4524884198604983, 0.4524884198604983, 0.8380273188062978, 0.9475965107128006, 0.9201719902515002, 0.9201721025091395, 0.9201719932007753, 0.6229737441344007, 0.8340422337201667, 0.8380274159142848, 0.552179411382807, 0.552179411382807, 0.8380274362059592, 0.8380274216523843, 0.8380274132397596, 0.9201721106668198, 0.8340423453775112, 0.5886581601942432, 0.5886581601942432, 0.2668984589163971, 0.5337969178327941, 0.13344922945819854, 0.8380275745262051, 0.9201719005049236, 0.5886579976984386, 0.5886579976984386, 0.31314449937006905, 0.31314449937006905, 0.31314449937006905, 0.742998835778779, 0.9476255478102306, 0.8340422521653802, 0.8340422803206441, 0.7429987871422367, 0.8340422546455822, 0.2707668315853312, 0.2707668315853312, 0.2707668315853312, 0.2707668315853312, 0.5886580484509473, 0.5886580484509473, 0.8380276323204302, 0.9201719423817935, 0.7175076732151748, 0.25602845249012185, 0.5120569049802437, 0.12801422624506092, 0.6409188837063196, 0.3204594418531598, 0.834042225820879, 0.7330456583547799, 0.36652282917738993, 0.8380274331406631, 0.9201720412485876, 0.8340422819461871, 0.6842120532602395, 0.34210602663011974, 0.8340422161943755, 0.43168464902616444, 0.43168464902616444, 0.43168464902616444, 0.9475965886617144, 0.9475967129634741, 0.8380274272224023, 0.7429988071767395, 0.18809856248702034, 0.18809856248702034, 0.3761971249740407, 0.3761971249740407, 0.8340421926593127, 0.8340422335647005, 0.9201719771882392, 0.5107524394428306, 0.5107524394428306, 0.834042241367989, 0.7429988120546376, 0.3347178810693154, 0.3347178810693154, 0.9201719062519372, 0.7429988854017572, 0.8380275607511829, 0.8340423419278293, 0.35506218575814075, 0.35506218575814075, 0.9201719560952181, 0.8380274596252012, 0.7946659752640468, 0.7175077735048006, 0.8340423125230358, 0.7175074583225023, 0.7429987864973904, 0.9475956488232699, 0.9201719516566164, 0.8340422648870606, 0.24714417611359066, 0.4942883522271813, 0.24714417611359066, 0.834042258063266, 0.8380274372270106, 0.9201718993056905, 0.8380274100911774, 0.7175077867526143, 0.8340422300454126, 0.45216060975321376, 0.8380274854287499, 0.9480923485328624, 0.7429988168436317, 0.9201720889934938, 0.3527350639912123, 0.3527350639912123, 0.9201719979581364, 0.8380275387874494, 0.6280326190833168, 0.8380275526974315, 0.8380276091516542, 0.8380272865549124, 0.9201720634044344, 0.9201718735804174, 0.7175077833165654, 0.9201719754326179, 0.3723420394817885, 0.18617101974089426, 0.3723420394817885, 0.09308550987044713, 0.2435965349411441, 0.2435965349411441, 0.2435965349411441, 0.2435965349411441, 0.8340422181287321, 0.9201719359141848, 0.6280325645301819, 0.7429988320468686, 0.7946898134863146, 0.15893796269726293, 0.15893796269726293, 0.7175078784190434], \"Term\": [\"abril\", \"abril\", \"abril\", \"acciones\", \"acciones\", \"acus\\u00f3\", \"adverso\", \"afectar\\u00e1\", \"agencia\", \"agenda\", \"alberto\", \"all\\u00e1\", \"alzar\", \"anot\\u00f3\", \"anuncia\", \"anunci\\u00f3\", \"anunci\\u00f3\", \"apunta\", \"apunta\", \"aranceles\", \"aranceles\", \"aranceles\", \"aranceles\", \"argentina\", \"argentina\", \"argentina\", \"argentina\", \"argentina\", \"argentine\", \"argentine\", \"argentino\", \"argentinos\", \"argentinos\", \"aumenta\", \"auto\", \"automotriz\", \"aves\", \"a\\u00f1os\", \"baja\", \"bandera\", \"bandera\", \"boca\", \"boca\", \"bonos\", \"bonos\", \"bonos\", \"brasil\", \"b\\u00e1sicos\", \"cada\", \"camiseta\", \"camiseta\", \"cancilleria\", \"cancilleria\", \"claro\", \"clima\", \"clima\", \"comedia\", \"confirm\\u00f3\", \"confirm\\u00f3\", \"contexto\", \"copa\", \"crece\", \"creci\\u00f3\", \"cr\\u00e9dito\", \"cuarta\", \"cu\\u00e1ndo\", \"debilitar\", \"decisi\\u00f3n\", \"desploman\", \"deuda\", \"diario\", \"diario\", \"dicen\", \"dijo\", \"directora\", \"duda\", \"dudas\", \"d\\u00f3lar\", \"d\\u00f3lar\", \"economista\", \"econom\\u00eda\", \"econom\\u00eda\", \"econ\\u00f3mica\", \"econ\\u00f3micas\", \"energ\\u00eda\", \"entrar\", \"entr\\u00f3\", \"espa\\u00f1a\", \"espn\", \"exitoso\", \"exportaciones\", \"fabricar\", \"fabricar\", \"fabricar\", \"feriado\", \"fern\\u00e1ndez\", \"fern\\u00e1ndez\", \"fern\\u00e1ndez\", \"fifa\", \"fifa\", \"financieras\", \"financiero\", \"financiero\", \"financiero\", \"funcionario\", \"global\", \"global\", \"globales\", \"goleada\", \"hallazgo\", \"heart\", \"hilo\", \"historia\", \"h\\u00edbridos\", \"impactar\", \"impacto\", \"impacto\", \"importador\", \"impuesto\", \"incertidumbre\", \"incre\\u00edble\", \"industria\", \"influencer\", \"influencer\", \"infobae\", \"infobae\", \"infobae\", \"infracciones\", \"ingenio\", \"islas\", \"islas\", \"javier\", \"javier\", \"javier\", \"juega\", \"junior\", \"larreta\", \"legislaci\\u00f3n\", \"lejos\", \"macri\", \"malvinas\", \"malvinas\", \"malvinas\", \"malvinas\", \"maradona\", \"maradona\", \"medio\", \"merval\", \"meti\\u00f3\", \"milei\", \"milei\", \"milei\", \"millones\", \"millones\", \"minimizar\", \"mundial\", \"mundial\", \"m\\u00ednimo\", \"narcotr\\u00e1fico\", \"negocios\", \"noticias\", \"noticias\", \"nuclear\", \"nueva\", \"nueva\", \"nueva\", \"nuevo\", \"observador\", \"pais\", \"partidos\", \"pa\\u00eds\", \"pa\\u00eds\", \"pa\\u00eds\", \"pa\\u00eds\", \"peor\", \"perdi\\u00f3\", \"persona\", \"pide\", \"pide\", \"plan\", \"plate\", \"pobreza\", \"pobreza\", \"poderosas\", \"pol\\u00edtica\", \"promotes\", \"provincia\", \"puntos\", \"puntos\", \"puro\", \"p\\u00e1rrafo\", \"qued\\u00f3\", \"ranking\", \"readecuar\\u00e1\", \"rec\\u00edprocos\", \"reino\", \"rep\\u00fablica\", \"resistieron\", \"respondi\\u00f3\", \"riesgo\", \"riesgo\", \"riesgo\", \"rodr\\u00edguez\", \"salada\", \"secta\", \"sector\", \"selecciones\", \"significa\", \"sigue\", \"soberan\\u00eda\", \"solicit\\u00f3\", \"solidaridad\", \"staff\", \"suba\", \"suba\", \"sudam\\u00e9rica\", \"supera\", \"super\\u00f3\", \"supuestas\", \"telef\\u00f3nica\", \"telesol\", \"tener\", \"tensi\\u00f3n\", \"tiempo\", \"trata\", \"trump\", \"trump\", \"trump\", \"trump\", \"unidos\", \"unidos\", \"unidos\", \"unidos\", \"viable\", \"vinculada\", \"vista\", \"volvi\\u00f3\", \"\\u00e1mbito\", \"\\u00e1mbito\", \"\\u00e1mbito\", \"\\u00faltimas\"]}, \"R\": 30, \"lambda.step\": 0.01, \"plot.opts\": {\"xlab\": \"PC1\", \"ylab\": \"PC2\"}, \"topic.order\": [5, 2, 3, 4, 1]};\n",
              "\n",
              "function LDAvis_load_lib(url, callback){\n",
              "  var s = document.createElement('script');\n",
              "  s.src = url;\n",
              "  s.async = true;\n",
              "  s.onreadystatechange = s.onload = callback;\n",
              "  s.onerror = function(){console.warn(\"failed to load library \" + url);};\n",
              "  document.getElementsByTagName(\"head\")[0].appendChild(s);\n",
              "}\n",
              "\n",
              "if(typeof(LDAvis) !== \"undefined\"){\n",
              "   // already loaded: just create the visualization\n",
              "   !function(LDAvis){\n",
              "       new LDAvis(\"#\" + \"ldavis_el28861398626092391042856647459\", ldavis_el28861398626092391042856647459_data);\n",
              "   }(LDAvis);\n",
              "}else if(typeof define === \"function\" && define.amd){\n",
              "   // require.js is available: use it to load d3/LDAvis\n",
              "   require.config({paths: {d3: \"https://d3js.org/d3.v5\"}});\n",
              "   require([\"d3\"], function(d3){\n",
              "      window.d3 = d3;\n",
              "      LDAvis_load_lib(\"https://cdn.jsdelivr.net/gh/bmabey/pyLDAvis@3.4.0/pyLDAvis/js/ldavis.v3.0.0.js\", function(){\n",
              "        new LDAvis(\"#\" + \"ldavis_el28861398626092391042856647459\", ldavis_el28861398626092391042856647459_data);\n",
              "      });\n",
              "    });\n",
              "}else{\n",
              "    // require.js not available: dynamically load d3 & LDAvis\n",
              "    LDAvis_load_lib(\"https://d3js.org/d3.v5.js\", function(){\n",
              "         LDAvis_load_lib(\"https://cdn.jsdelivr.net/gh/bmabey/pyLDAvis@3.4.0/pyLDAvis/js/ldavis.v3.0.0.js\", function(){\n",
              "                 new LDAvis(\"#\" + \"ldavis_el28861398626092391042856647459\", ldavis_el28861398626092391042856647459_data);\n",
              "            })\n",
              "         });\n",
              "}\n",
              "</script>"
            ]
          },
          "metadata": {},
          "execution_count": 64
        }
      ]
    }
  ]
}